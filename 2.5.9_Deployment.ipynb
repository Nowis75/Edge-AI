{
 "cells": [
  {
   "metadata": {},
   "cell_type": "markdown",
   "source": [
    "# Konverze modelu do nasaditelného formátu (.tflite → C++)\n",
    "\n",
    "Tento krok převádí model TensorFlow do formátu .tflite a následně do C pole, které lze připojit k firmware."
   ],
   "id": "f494ddf487059fe3"
  },
  {
   "metadata": {
    "collapsed": true,
    "ExecuteTime": {
     "end_time": "2025-04-08T18:54:31.955470Z",
     "start_time": "2025-04-08T18:54:29.010152Z"
    }
   },
   "cell_type": "code",
   "outputs": [
    {
     "name": "stderr",
     "output_type": "stream",
     "text": [
      "2025-04-08 20:54:31.466784: W tensorflow/core/platform/profile_utils/cpu_utils.cc:128] Failed to get CPU frequency: 0 Hz\n"
     ]
    },
    {
     "name": "stdout",
     "output_type": "stream",
     "text": [
      "INFO:tensorflow:Assets written to: /var/folders/6f/m_ls96295sl5v0q5fc8hxjx40000gn/T/tmp5dy257x6/assets\n"
     ]
    },
    {
     "name": "stderr",
     "output_type": "stream",
     "text": [
      "2025-04-08 20:54:31.883376: W tensorflow/compiler/mlir/lite/python/tf_tfl_flatbuffer_helpers.cc:362] Ignored output_format.\n",
      "2025-04-08 20:54:31.883387: W tensorflow/compiler/mlir/lite/python/tf_tfl_flatbuffer_helpers.cc:365] Ignored drop_control_dependency.\n",
      "2025-04-08 20:54:31.883940: I tensorflow/cc/saved_model/reader.cc:45] Reading SavedModel from: /var/folders/6f/m_ls96295sl5v0q5fc8hxjx40000gn/T/tmp5dy257x6\n",
      "2025-04-08 20:54:31.884537: I tensorflow/cc/saved_model/reader.cc:89] Reading meta graph with tags { serve }\n",
      "2025-04-08 20:54:31.884542: I tensorflow/cc/saved_model/reader.cc:130] Reading SavedModel debug info (if present) from: /var/folders/6f/m_ls96295sl5v0q5fc8hxjx40000gn/T/tmp5dy257x6\n",
      "2025-04-08 20:54:31.885551: I tensorflow/compiler/mlir/mlir_graph_optimization_pass.cc:354] MLIR V1 optimization pass is not enabled\n",
      "2025-04-08 20:54:31.885793: I tensorflow/cc/saved_model/loader.cc:229] Restoring SavedModel bundle.\n",
      "2025-04-08 20:54:31.898669: I tensorflow/cc/saved_model/loader.cc:213] Running initialization op on SavedModel bundle at path: /var/folders/6f/m_ls96295sl5v0q5fc8hxjx40000gn/T/tmp5dy257x6\n",
      "2025-04-08 20:54:31.901452: I tensorflow/cc/saved_model/loader.cc:305] SavedModel load for tags { serve }; Status: success: OK. Took 17773 microseconds.\n",
      "2025-04-08 20:54:31.917451: I tensorflow/compiler/mlir/tensorflow/utils/dump_mlir_util.cc:268] disabling MLIR crash reproducer, set env var `MLIR_CRASH_REPRODUCER_DIRECTORY` to enable.\n"
     ]
    }
   ],
   "execution_count": 1,
   "source": [
    "import tensorflow as tf\n",
    "import numpy as np\n",
    "\n",
    "# === 1. Vytvoření a trénink jednoduchého modelu ===\n",
    "model = tf.keras.Sequential([\n",
    "    tf.keras.layers.Input(shape=(10,)),\n",
    "    tf.keras.layers.Dense(8, activation='relu'),\n",
    "    tf.keras.layers.Dense(1, activation='sigmoid')\n",
    "])\n",
    "model.compile(optimizer='adam', loss='binary_crossentropy')\n",
    "X_train = np.random.rand(100, 10).astype(np.float32)\n",
    "y_train = np.random.randint(0, 2, size=(100, 1)).astype(np.float32)\n",
    "model.fit(X_train, y_train, epochs=5, verbose=0)\n",
    "\n",
    "# === 2. Konverze modelu do TFLite formátu ===\n",
    "converter = tf.lite.TFLiteConverter.from_keras_model(model)\n",
    "tflite_model = converter.convert()\n",
    "\n",
    "# === 3. Uložení modelu .tflite ===\n",
    "with open(\"model.tflite\", \"wb\") as f:\n",
    "    f.write(tflite_model)\n",
    "\n",
    "# === 4. Převedení do C pole (pro přiložení do firmwaru)\n",
    "# Spuštění v terminálu (ručně):\n",
    "# xxd -i model.tflite > model_data.cc\n"
   ],
   "id": "initial_id"
  },
  {
   "metadata": {},
   "cell_type": "markdown",
   "source": [
    "# Integrace modelu do aplikačního kódu (Python simulace)\n",
    "\n",
    "V embedded prostředí to probíhá v C/C++, ale zde si to ukážeme v Pythonu jako simulaci:"
   ],
   "id": "cb5fcd53fa9ee123"
  },
  {
   "metadata": {
    "ExecuteTime": {
     "end_time": "2025-04-08T18:58:10.125493Z",
     "start_time": "2025-04-08T18:58:10.104621Z"
    }
   },
   "cell_type": "code",
   "outputs": [
    {
     "name": "stdout",
     "output_type": "stream",
     "text": [
      "Predikce modelu: 0.5392\n"
     ]
    },
    {
     "name": "stderr",
     "output_type": "stream",
     "text": [
      "INFO: Initialized TensorFlow Lite runtime.\n",
      "INFO: Applying 1 TensorFlow Lite delegate(s) lazily.\n"
     ]
    }
   ],
   "execution_count": 2,
   "source": [
    "# === Inference simulace (na embedded zařízení) ===\n",
    "interpreter = tf.lite.Interpreter(model_path=\"model.tflite\")\n",
    "interpreter.allocate_tensors()\n",
    "\n",
    "input_details = interpreter.get_input_details()\n",
    "output_details = interpreter.get_output_details()\n",
    "\n",
    "# Simulace vstupních dat (např. ze senzoru)\n",
    "input_data = np.random.rand(1, 10).astype(np.float32)\n",
    "\n",
    "# Předání vstupu a spuštění modelu\n",
    "interpreter.set_tensor(input_details[0]['index'], input_data)\n",
    "interpreter.invoke()\n",
    "\n",
    "# Výstup\n",
    "output = interpreter.get_tensor(output_details[0]['index'])\n",
    "print(f\"Predikce modelu: {output[0][0]:.4f}\")"
   ],
   "id": "2038b3d5ebfa5940"
  }
 ],
 "metadata": {
  "kernelspec": {
   "display_name": "Python 3",
   "language": "python",
   "name": "python3"
  },
  "language_info": {
   "codemirror_mode": {
    "name": "ipython",
    "version": 2
   },
   "file_extension": ".py",
   "mimetype": "text/x-python",
   "name": "python",
   "nbconvert_exporter": "python",
   "pygments_lexer": "ipython2",
   "version": "2.7.6"
  }
 },
 "nbformat": 4,
 "nbformat_minor": 5
}
