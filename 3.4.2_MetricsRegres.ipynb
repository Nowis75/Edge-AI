{
 "cells": [
  {
   "metadata": {},
   "cell_type": "markdown",
   "source": "# MSE (Mean Squared Error – střední kvadratická chyba)\n",
   "id": "328922972c727ca7"
  },
  {
   "metadata": {
    "collapsed": true,
    "ExecuteTime": {
     "end_time": "2025-04-24T10:54:27.362891Z",
     "start_time": "2025-04-24T10:54:26.988735Z"
    }
   },
   "cell_type": "code",
   "source": [
    "from sklearn.metrics import mean_squared_error\n",
    "\n",
    "y_true = [2.0, 0.5, 4.0, 1.0]    # skutečné hodnoty\n",
    "y_pred = [1.8, 0.3, 3.9, 1.4]    # predikované hodnoty modelu\n",
    "mse = mean_squared_error(y_true, y_pred)\n",
    "print(f\"MSE: {mse:.3f}\")"
   ],
   "id": "initial_id",
   "outputs": [
    {
     "name": "stdout",
     "output_type": "stream",
     "text": [
      "MSE: 0.062\n"
     ]
    }
   ],
   "execution_count": 1
  },
  {
   "metadata": {},
   "cell_type": "markdown",
   "source": "# RMSE (Root Mean Squared Error – odmocněná střední kvadratická chyba)",
   "id": "a070545f07d3ff6b"
  },
  {
   "metadata": {
    "ExecuteTime": {
     "end_time": "2025-04-24T11:01:51.936282Z",
     "start_time": "2025-04-24T11:01:51.923576Z"
    }
   },
   "cell_type": "code",
   "source": [
    "rmse = mean_squared_error(y_true, y_pred, squared=False)\n",
    "print(f\"RMSE: {rmse:.3f}\")"
   ],
   "id": "7f967157bc467d68",
   "outputs": [
    {
     "name": "stdout",
     "output_type": "stream",
     "text": [
      "RMSE: 0.250\n"
     ]
    }
   ],
   "execution_count": 2
  },
  {
   "metadata": {},
   "cell_type": "markdown",
   "source": "# MAE (Mean Absolute Error – střední absolutní chyba)",
   "id": "ff02ae35e5db4f57"
  },
  {
   "metadata": {
    "ExecuteTime": {
     "end_time": "2025-04-24T11:31:12.035301Z",
     "start_time": "2025-04-24T11:31:12.028347Z"
    }
   },
   "cell_type": "code",
   "source": [
    "from sklearn.metrics import mean_absolute_error\n",
    "\n",
    "mae = mean_absolute_error(y_true, y_pred)\n",
    "print(f\"MAE: {mae:.3f}\")"
   ],
   "id": "23d89998d26ca67f",
   "outputs": [
    {
     "name": "stdout",
     "output_type": "stream",
     "text": [
      "MAE: 0.225\n"
     ]
    }
   ],
   "execution_count": 3
  },
  {
   "metadata": {},
   "cell_type": "markdown",
   "source": "# R² (R-squared, koeficient determinace)",
   "id": "6a69c995543a83cf"
  },
  {
   "metadata": {
    "ExecuteTime": {
     "end_time": "2025-04-24T11:54:21.179935Z",
     "start_time": "2025-04-24T11:54:21.168767Z"
    }
   },
   "cell_type": "code",
   "source": [
    "from sklearn.metrics import r2_score\n",
    "\n",
    "r2 = r2_score(y_true, y_pred)\n",
    "print(f\"R^2: {r2:.3f}\")"
   ],
   "id": "9a982d012fc7a110",
   "outputs": [
    {
     "name": "stdout",
     "output_type": "stream",
     "text": [
      "R^2: 0.965\n"
     ]
    }
   ],
   "execution_count": 4
  }
 ],
 "metadata": {
  "kernelspec": {
   "display_name": "Python 3",
   "language": "python",
   "name": "python3"
  },
  "language_info": {
   "codemirror_mode": {
    "name": "ipython",
    "version": 2
   },
   "file_extension": ".py",
   "mimetype": "text/x-python",
   "name": "python",
   "nbconvert_exporter": "python",
   "pygments_lexer": "ipython2",
   "version": "2.7.6"
  }
 },
 "nbformat": 4,
 "nbformat_minor": 5
}
