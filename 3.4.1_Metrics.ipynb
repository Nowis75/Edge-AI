{
 "cells": [
  {
   "metadata": {},
   "cell_type": "markdown",
   "source": "# Accuracy (Přesnost klasifikace)",
   "id": "faa058114b972b62"
  },
  {
   "metadata": {
    "collapsed": true,
    "ExecuteTime": {
     "end_time": "2025-04-24T07:19:08.186538Z",
     "start_time": "2025-04-24T07:19:07.728286Z"
    }
   },
   "cell_type": "code",
   "outputs": [
    {
     "name": "stdout",
     "output_type": "stream",
     "text": [
      "Accuracy: 0.625\n"
     ]
    }
   ],
   "execution_count": 1,
   "source": [
    "from sklearn.metrics import accuracy_score\n",
    "\n",
    "y_true = [1,1,1,1,0,0,0,0]    # Skutečné třídy: 1=pozitivní, 0=negativní (např. 1 = \"kašel\")\n",
    "y_pred = [1,0,0,1,0,1,0,0]    # Predikce modelu pro tytéž případy\n",
    "\n",
    "acc = accuracy_score(y_true, y_pred)\n",
    "print(f\"Accuracy: {acc:.3f}\")"
   ],
   "id": "initial_id"
  },
  {
   "metadata": {},
   "cell_type": "markdown",
   "source": "# Precision (Pozitivní predikce)",
   "id": "74b2a0cefc44666"
  },
  {
   "metadata": {
    "ExecuteTime": {
     "end_time": "2025-04-24T07:35:39.271694Z",
     "start_time": "2025-04-24T07:35:39.259897Z"
    }
   },
   "cell_type": "code",
   "source": [
    "from sklearn.metrics import precision_score\n",
    "\n",
    "# Pokračujeme s y_true a y_pred z předchozího příkladu\n",
    "prec = precision_score(y_true, y_pred)\n",
    "print(f\"Precision: {prec:.3f}\")"
   ],
   "id": "778fe7b6f9de498e",
   "outputs": [
    {
     "name": "stdout",
     "output_type": "stream",
     "text": [
      "Precision: 0.667\n"
     ]
    }
   ],
   "execution_count": 2
  },
  {
   "metadata": {},
   "cell_type": "markdown",
   "source": "# Recall (Citlivost, záchyt)",
   "id": "bc49c75085d3cfdc"
  },
  {
   "metadata": {
    "ExecuteTime": {
     "end_time": "2025-04-24T07:45:43.594561Z",
     "start_time": "2025-04-24T07:45:43.586392Z"
    }
   },
   "cell_type": "code",
   "source": [
    "from sklearn.metrics import recall_score\n",
    "\n",
    "rec = recall_score(y_true, y_pred)\n",
    "print(f\"Recall: {rec:.3f}\")"
   ],
   "id": "10016bf13289b04c",
   "outputs": [
    {
     "name": "stdout",
     "output_type": "stream",
     "text": [
      "Recall: 0.500\n"
     ]
    }
   ],
   "execution_count": 3
  },
  {
   "metadata": {},
   "cell_type": "markdown",
   "source": "# F1 Score (Harmonické průměr precision a recall)",
   "id": "39778868d2646c21"
  },
  {
   "metadata": {
    "ExecuteTime": {
     "end_time": "2025-04-24T07:53:55.669923Z",
     "start_time": "2025-04-24T07:53:55.649707Z"
    }
   },
   "cell_type": "code",
   "source": [
    "from sklearn.metrics import f1_score\n",
    "\n",
    "f1 = f1_score(y_true, y_pred)\n",
    "print(f\"F1 score: {f1:.3f}\")"
   ],
   "id": "3757c3b5b1508ce",
   "outputs": [
    {
     "name": "stdout",
     "output_type": "stream",
     "text": [
      "F1 score: 0.571\n"
     ]
    }
   ],
   "execution_count": 4
  },
  {
   "metadata": {},
   "cell_type": "markdown",
   "source": "# Confusion Matrix (Matice záměn)",
   "id": "c81a5107b9b600d2"
  },
  {
   "metadata": {
    "ExecuteTime": {
     "end_time": "2025-04-24T08:21:36.788328Z",
     "start_time": "2025-04-24T08:21:36.778292Z"
    }
   },
   "cell_type": "code",
   "source": [
    "from sklearn.metrics import confusion_matrix\n",
    "\n",
    "cm = confusion_matrix(y_true, y_pred)\n",
    "print(\"Confusion matrix:\\n\", cm)"
   ],
   "id": "ae89feabc6dcba63",
   "outputs": [
    {
     "name": "stdout",
     "output_type": "stream",
     "text": [
      "Confusion matrix:\n",
      " [[3 1]\n",
      " [2 2]]\n"
     ]
    }
   ],
   "execution_count": 5
  },
  {
   "metadata": {},
   "cell_type": "markdown",
   "source": "£ ROC AUC (Receiver Operating Characteristic – plocha pod křivkou)",
   "id": "99f550fb7b64e181"
  },
  {
   "metadata": {
    "ExecuteTime": {
     "end_time": "2025-04-24T08:39:54.052690Z",
     "start_time": "2025-04-24T08:39:54.042325Z"
    }
   },
   "cell_type": "code",
   "source": [
    "from sklearn.metrics import roc_auc_score, roc_curve\n",
    "\n",
    "# Příklad skóre (predikční pravděpodobnosti pozitivní třídy pro každý vzorek):\n",
    "y_scores = [0.9, 0.4, 0.2, 0.8, 0.1, 0.7, 0.3, 0.05]  # stejně dlouhý jako y_true\n",
    "auc = roc_auc_score(y_true, y_scores)\n",
    "fpr, tpr, thresh = roc_curve(y_true, y_scores)\n",
    "\n",
    "print(f\"ROC AUC: {auc:.3f}\")"
   ],
   "id": "815851c48b49a904",
   "outputs": [
    {
     "name": "stdout",
     "output_type": "stream",
     "text": [
      "ROC AUC: 0.812\n"
     ]
    }
   ],
   "execution_count": 6
  },
  {
   "metadata": {},
   "cell_type": "markdown",
   "source": "# Precision-Recall křivka",
   "id": "b3d0f8619f75cc43"
  },
  {
   "metadata": {
    "ExecuteTime": {
     "end_time": "2025-04-24T08:46:14.163497Z",
     "start_time": "2025-04-24T08:46:14.157805Z"
    }
   },
   "cell_type": "code",
   "source": [
    "from sklearn.metrics import precision_recall_curve, average_precision_score\n",
    "\n",
    "precisions, recalls, thresholds = precision_recall_curve(y_true, y_scores)\n",
    "ap = average_precision_score(y_true, y_scores)\n",
    "print(f\"Average Precision (AP): {ap:.3f}\")"
   ],
   "id": "148cc7dd1b3086b",
   "outputs": [
    {
     "name": "stdout",
     "output_type": "stream",
     "text": [
      "Average Precision (AP): 0.854\n"
     ]
    }
   ],
   "execution_count": 7
  },
  {
   "metadata": {},
   "cell_type": "markdown",
   "source": [
    "Zde je názornější a plně funkční příklad v Pythonu, který:\n",
    "\n",
    "1. Vytvoří syntetická data pro binární klasifikaci.\n",
    "2. Spočítá precision-recall křivku.\n",
    "3. Vykreslí křivku v grafu pomocí matplotlib.\n",
    "4. Vypíše Average Precision (AP) skóre."
   ],
   "id": "20999ffc7fdf430b"
  },
  {
   "metadata": {
    "ExecuteTime": {
     "end_time": "2025-04-24T08:58:20.867206Z",
     "start_time": "2025-04-24T08:58:20.450559Z"
    }
   },
   "cell_type": "code",
   "outputs": [
    {
     "data": {
      "text/plain": [
       "<Figure size 800x600 with 1 Axes>"
      ],
      "image/png": "[encoded data removed]"
     },
     "metadata": {},
     "output_type": "display_data"
    }
   ],
   "execution_count": 8,
   "source": [
    "import numpy as np\n",
    "import matplotlib.pyplot as plt\n",
    "from sklearn.datasets import make_classification\n",
    "from sklearn.model_selection import train_test_split\n",
    "from sklearn.linear_model import LogisticRegression\n",
    "from sklearn.metrics import precision_recall_curve, average_precision_score\n",
    "\n",
    "# 1️⃣ Generování dat\n",
    "X, y = make_classification(n_samples=1000, n_features=20, n_classes=2,\n",
    "                           n_informative=2, n_redundant=10, random_state=42)\n",
    "\n",
    "# 2️⃣ Rozdělení na trénovací a testovací data\n",
    "X_train, X_test, y_train, y_test = train_test_split(X, y, test_size=0.3, random_state=42)\n",
    "\n",
    "# 3️⃣ Trénink jednoduchého modelu\n",
    "model = LogisticRegression()\n",
    "model.fit(X_train, y_train)\n",
    "\n",
    "# 4️⃣ Předpověď pravděpodobností pro třídu 1\n",
    "y_scores = model.predict_proba(X_test)[:, 1]\n",
    "\n",
    "# 5️⃣ Výpočet Precision-Recall křivky\n",
    "precisions, recalls, thresholds = precision_recall_curve(y_test, y_scores)\n",
    "ap = average_precision_score(y_test, y_scores)\n",
    "\n",
    "# 6️⃣ Vizualizace\n",
    "plt.figure(figsize=(8, 6))\n",
    "plt.plot(recalls, precisions, label=f'PR křivka (AP = {ap:.2f})', color='blue')\n",
    "plt.xlabel('Recall (citlivost)')\n",
    "plt.ylabel('Precision (přesnost)')\n",
    "plt.title('Precision-Recall křivka')\n",
    "plt.grid(True)\n",
    "plt.legend()\n",
    "plt.tight_layout()\n",
    "plt.show()\n"
   ],
   "id": "4119c20ea882442f"
  },
  {
   "metadata": {},
   "cell_type": "markdown",
   "source": "# Log Loss (Logaritmická ztráta)",
   "id": "2642d0f358d6b6f3"
  },
  {
   "metadata": {
    "ExecuteTime": {
     "end_time": "2025-04-24T09:14:28.462842Z",
     "start_time": "2025-04-24T09:14:28.458224Z"
    }
   },
   "cell_type": "code",
   "source": [
    "from sklearn.metrics import log_loss\n",
    "\n",
    "# Příklad pravděpodobnostních predikcí pro dvě třídy (na každém řádku: [P(třída0), P(třída1)]):\n",
    "y_true = [0, 1, 1, 0]\n",
    "y_pred_proba = [[0.9, 0.1],\n",
    "                [0.4, 0.6],\n",
    "                [0.2, 0.8],\n",
    "                [0.7, 0.3]]  # každý vnořený list je predikce pro vzorek\n",
    "\n",
    "ll = log_loss(y_true, y_pred_proba)\n",
    "print(f\"Log loss: {ll:.3f}\")"
   ],
   "id": "25a2828a703b4560",
   "outputs": [
    {
     "name": "stdout",
     "output_type": "stream",
     "text": [
      "Log loss: 0.299\n"
     ]
    }
   ],
   "execution_count": 12
  },
  {
   "metadata": {},
   "cell_type": "markdown",
   "source": [
    "# Všechny základní metirky dohromady\n",
    "\n",
    "Trénování jednoduchého klasifikátoru, s vypočítem různých metrik"
   ],
   "id": "58fd9502d3743685"
  },
  {
   "metadata": {
    "ExecuteTime": {
     "end_time": "2025-04-24T12:29:53.023332Z",
     "start_time": "2025-04-24T12:29:52.961575Z"
    }
   },
   "cell_type": "code",
   "source": [
    "# 1. Nastavení\n",
    "import numpy as np\n",
    "from sklearn.datasets import make_classification\n",
    "from sklearn.model_selection import train_test_split\n",
    "from sklearn.linear_model import LogisticRegression\n",
    "from sklearn.metrics import (accuracy_score, precision_score, recall_score, f1_score,\n",
    "                             confusion_matrix, roc_curve, auc)\n",
    "import matplotlib.pyplot as plt\n",
    "import seaborn as sns\n",
    "\n",
    "np.random.seed(42)\n",
    "\n",
    "# 2. Generování dat a štrénováníkolení\n",
    "# Vytvoří dataset\n",
    "X, y = make_classification(\n",
    "    n_samples=1000,\n",
    "    n_features=10,\n",
    "    n_informative=2,\n",
    "    n_redundant=2,\n",
    "    n_classes=2,\n",
    "    weights=[0.8, 0.2],  # 80% of one class, 20% of the other (imbalanced)\n",
    "    random_state=42\n",
    ")\n",
    "\n",
    "# Split into train/test\n",
    "X_train, X_test, y_train, y_test = train_test_split(\n",
    "    X, y,\n",
    "    test_size=0.3,\n",
    "    random_state=42\n",
    ")\n",
    "\n",
    "# Trénink jednoduchého LR modelu\n",
    "model = LogisticRegression()\n",
    "model.fit(X_train, y_train)\n",
    "y_pred = model.predict(X_test)\n",
    "y_prob = model.predict_proba(X_test)[:, 1]  # probabilities for the positive class\n",
    "\n",
    "# 3. Výpočet metrik\n",
    "acc = accuracy_score(y_test, y_pred)\n",
    "prec = precision_score(y_test, y_pred)\n",
    "rec = recall_score(y_test, y_pred)\n",
    "f1 = f1_score(y_test, y_pred)\n",
    "\n",
    "print(f\"Accuracy: {acc:.2f}\")\n",
    "print(f\"Precision: {prec:.2f}\")\n",
    "print(f\"Recall: {rec:.2f}\")\n",
    "print(f\"F1 Score: {f1:.2f}\")\n",
    "\n",
    "# 4. Matice zmatení\n",
    "cm = confusion_matrix(y_test, y_pred)\n",
    "\n",
    "plt.figure(figsize=(4,3))\n",
    "sns.heatmap(cm, annot=True, fmt='d', cmap='Blues')\n",
    "plt.title(\"Confusion Matrix\")\n",
    "plt.xlabel(\"Predicted\")\n",
    "plt.ylabel(\"Actual\")\n",
    "plt.show()"
   ],
   "id": "cd34821f507aaf56",
   "outputs": [
    {
     "name": "stdout",
     "output_type": "stream",
     "text": [
      "Accuracy: 0.89\n",
      "Precision: 0.81\n",
      "Recall: 0.72\n",
      "F1 Score: 0.76\n"
     ]
    },
    {
     "data": {
      "text/plain": [
       "<Figure size 400x300 with 2 Axes>"
      ],
      "image/png": "[encoded data removed]"
     },
     "metadata": {},
     "output_type": "display_data"
    }
   ],
   "execution_count": 26
  },
  {
   "metadata": {
    "ExecuteTime": {
     "end_time": "2025-04-24T12:25:25.347777Z",
     "start_time": "2025-04-24T12:25:25.282068Z"
    }
   },
   "cell_type": "code",
   "source": [
    "# 5. Křivka ROC a AUC\n",
    "fpr, tpr, thresholds = roc_curve(y_test, y_prob)\n",
    "roc_auc = auc(fpr, tpr)\n",
    "\n",
    "plt.figure(figsize=(5,4))\n",
    "plt.plot(fpr, tpr, color='blue', label=f\"ROC curve (AUC = {roc_auc:.2f})\")\n",
    "plt.plot([0,1], [0,1], color='red', linestyle='--')\n",
    "plt.xlabel(\"False Positive Rate\")\n",
    "plt.ylabel(\"True Positive Rate\")\n",
    "plt.title(\"ROC Curve\")\n",
    "plt.legend()\n",
    "plt.show()"
   ],
   "id": "8f7b281315669732",
   "outputs": [
    {
     "data": {
      "text/plain": [
       "<Figure size 500x400 with 1 Axes>"
      ],
      "image/png": "[encoded data removed]"
     },
     "metadata": {},
     "output_type": "display_data"
    }
   ],
   "execution_count": 15
  }
 ],
 "metadata": {
  "kernelspec": {
   "display_name": "Python 3",
   "language": "python",
   "name": "python3"
  },
  "language_info": {
   "codemirror_mode": {
    "name": "ipython",
    "version": 2
   },
   "file_extension": ".py",
   "mimetype": "text/x-python",
   "name": "python",
   "nbconvert_exporter": "python",
   "pygments_lexer": "ipython2",
   "version": "2.7.6"
  }
 },
 "nbformat": 4,
 "nbformat_minor": 5
}
