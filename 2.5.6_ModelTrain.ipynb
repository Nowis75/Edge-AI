{
 "cells": [
  {
   "metadata": {},
   "cell_type": "markdown",
   "source": "# Trénink jednoduchého modelu MLP",
   "id": "df73230580659e18"
  },
  {
   "metadata": {
    "ExecuteTime": {
     "end_time": "2025-04-03T07:59:31.106089Z",
     "start_time": "2025-04-03T07:59:28.295205Z"
    }
   },
   "cell_type": "code",
   "source": [
    "import numpy as np\n",
    "from sklearn.datasets import make_classification\n",
    "from sklearn.model_selection import train_test_split\n",
    "import tensorflow as tf\n",
    "from tensorflow.keras.models import Sequential\n",
    "from tensorflow.keras.layers import Dense, Input\n",
    "\n",
    "# 1. Generování syntetického datasetu pro binární klasifikaci\n",
    "X, y = make_classification(n_samples=1000, n_features=10, n_classes=2, random_state=42)\n",
    "X_train, X_test, y_train, y_test = train_test_split(X, y, test_size=0.2, random_state=42)\n",
    "\n",
    "# 2. Definice jednoduché neuronové sítě\n",
    "model = Sequential([\n",
    "    Input(shape=(X_train.shape[1],)),\n",
    "    Dense(32, activation='relu'),\n",
    "    Dense(16, activation='relu'),\n",
    "    Dense(1, activation='sigmoid')  # Pro binární klasifikaci\n",
    "])\n",
    "\n",
    "# 3. Kompilace modelu\n",
    "model.compile(optimizer='adam', loss='binary_crossentropy', metrics=['accuracy'])\n",
    "\n",
    "# 4. Trénink modelu\n",
    "model.fit(X_train, y_train, validation_split=0.2, epochs=20, batch_size=32)\n",
    "\n",
    "# 5. Vyhodnocení na testovací sadě\n",
    "loss, accuracy = model.evaluate(X_test, y_test)\n",
    "print(f\"Test Loss: {loss:.4f}, Test Accuracy: {accuracy:.4f}\")\n",
    "\n",
    "# 6. Export do TensorFlow Lite\n",
    "converter = tf.lite.TFLiteConverter.from_keras_model(model)\n",
    "tflite_model = converter.convert()\n",
    "\n",
    "with open(\"mlp_model.tflite\", \"wb\") as f:\n",
    "    f.write(tflite_model)\n",
    "\n",
    "print(\"Model byl úspěšně exportován do mlp_model.tflite\")\n"
   ],
   "id": "6746d207ae0924e",
   "outputs": [
    {
     "name": "stdout",
     "output_type": "stream",
     "text": [
      "Epoch 1/20\n",
      "20/20 [==============================] - 0s 3ms/step - loss: 0.6341 - accuracy: 0.6016 - val_loss: 0.6188 - val_accuracy: 0.6375\n",
      "Epoch 2/20\n",
      " 1/20 [>.............................] - ETA: 0s - loss: 0.5761 - accuracy: 0.7500"
     ]
    },
    {
     "name": "stderr",
     "output_type": "stream",
     "text": [
      "2025-04-03 09:59:30.182875: W tensorflow/core/platform/profile_utils/cpu_utils.cc:128] Failed to get CPU frequency: 0 Hz\n"
     ]
    },
    {
     "name": "stdout",
     "output_type": "stream",
     "text": [
      "20/20 [==============================] - 0s 828us/step - loss: 0.5502 - accuracy: 0.7453 - val_loss: 0.5507 - val_accuracy: 0.7375\n",
      "Epoch 3/20\n",
      "20/20 [==============================] - 0s 858us/step - loss: 0.4870 - accuracy: 0.8016 - val_loss: 0.4977 - val_accuracy: 0.8125\n",
      "Epoch 4/20\n",
      "20/20 [==============================] - 0s 845us/step - loss: 0.4351 - accuracy: 0.8391 - val_loss: 0.4577 - val_accuracy: 0.8438\n",
      "Epoch 5/20\n",
      "20/20 [==============================] - 0s 792us/step - loss: 0.3956 - accuracy: 0.8594 - val_loss: 0.4285 - val_accuracy: 0.8500\n",
      "Epoch 6/20\n",
      "20/20 [==============================] - 0s 759us/step - loss: 0.3661 - accuracy: 0.8687 - val_loss: 0.4109 - val_accuracy: 0.8562\n",
      "Epoch 7/20\n",
      "20/20 [==============================] - 0s 759us/step - loss: 0.3427 - accuracy: 0.8703 - val_loss: 0.3976 - val_accuracy: 0.8687\n",
      "Epoch 8/20\n",
      "20/20 [==============================] - 0s 705us/step - loss: 0.3288 - accuracy: 0.8734 - val_loss: 0.3888 - val_accuracy: 0.8687\n",
      "Epoch 9/20\n",
      "20/20 [==============================] - 0s 704us/step - loss: 0.3169 - accuracy: 0.8766 - val_loss: 0.3832 - val_accuracy: 0.8687\n",
      "Epoch 10/20\n",
      "20/20 [==============================] - 0s 718us/step - loss: 0.3093 - accuracy: 0.8781 - val_loss: 0.3780 - val_accuracy: 0.8687\n",
      "Epoch 11/20\n",
      "20/20 [==============================] - 0s 651us/step - loss: 0.3035 - accuracy: 0.8797 - val_loss: 0.3758 - val_accuracy: 0.8750\n",
      "Epoch 12/20\n",
      "20/20 [==============================] - 0s 697us/step - loss: 0.2985 - accuracy: 0.8797 - val_loss: 0.3740 - val_accuracy: 0.8750\n",
      "Epoch 13/20\n",
      "20/20 [==============================] - 0s 710us/step - loss: 0.2953 - accuracy: 0.8781 - val_loss: 0.3727 - val_accuracy: 0.8750\n",
      "Epoch 14/20\n",
      "20/20 [==============================] - 0s 773us/step - loss: 0.2916 - accuracy: 0.8813 - val_loss: 0.3686 - val_accuracy: 0.8750\n",
      "Epoch 15/20\n",
      "20/20 [==============================] - 0s 863us/step - loss: 0.2877 - accuracy: 0.8859 - val_loss: 0.3686 - val_accuracy: 0.8750\n",
      "Epoch 16/20\n",
      "20/20 [==============================] - 0s 1ms/step - loss: 0.2848 - accuracy: 0.8859 - val_loss: 0.3652 - val_accuracy: 0.8750\n",
      "Epoch 17/20\n",
      "20/20 [==============================] - 0s 737us/step - loss: 0.2831 - accuracy: 0.8875 - val_loss: 0.3646 - val_accuracy: 0.8750\n",
      "Epoch 18/20\n",
      "20/20 [==============================] - 0s 735us/step - loss: 0.2800 - accuracy: 0.8922 - val_loss: 0.3600 - val_accuracy: 0.8750\n",
      "Epoch 19/20\n",
      "20/20 [==============================] - 0s 714us/step - loss: 0.2770 - accuracy: 0.8875 - val_loss: 0.3605 - val_accuracy: 0.8750\n",
      "Epoch 20/20\n",
      "20/20 [==============================] - 0s 737us/step - loss: 0.2759 - accuracy: 0.8922 - val_loss: 0.3618 - val_accuracy: 0.8750\n",
      "7/7 [==============================] - 0s 445us/step - loss: 0.3783 - accuracy: 0.8300\n",
      "Test Loss: 0.3783, Test Accuracy: 0.8300\n",
      "INFO:tensorflow:Assets written to: /var/folders/6f/m_ls96295sl5v0q5fc8hxjx40000gn/T/tmpatsvx3nd/assets\n",
      "Model byl úspěšně exportován do mlp_model.tflite\n"
     ]
    },
    {
     "name": "stderr",
     "output_type": "stream",
     "text": [
      "2025-04-03 09:59:31.023486: W tensorflow/compiler/mlir/lite/python/tf_tfl_flatbuffer_helpers.cc:362] Ignored output_format.\n",
      "2025-04-03 09:59:31.023499: W tensorflow/compiler/mlir/lite/python/tf_tfl_flatbuffer_helpers.cc:365] Ignored drop_control_dependency.\n",
      "2025-04-03 09:59:31.024007: I tensorflow/cc/saved_model/reader.cc:45] Reading SavedModel from: /var/folders/6f/m_ls96295sl5v0q5fc8hxjx40000gn/T/tmpatsvx3nd\n",
      "2025-04-03 09:59:31.024928: I tensorflow/cc/saved_model/reader.cc:89] Reading meta graph with tags { serve }\n",
      "2025-04-03 09:59:31.024932: I tensorflow/cc/saved_model/reader.cc:130] Reading SavedModel debug info (if present) from: /var/folders/6f/m_ls96295sl5v0q5fc8hxjx40000gn/T/tmpatsvx3nd\n",
      "2025-04-03 09:59:31.026124: I tensorflow/compiler/mlir/mlir_graph_optimization_pass.cc:354] MLIR V1 optimization pass is not enabled\n",
      "2025-04-03 09:59:31.026406: I tensorflow/cc/saved_model/loader.cc:229] Restoring SavedModel bundle.\n",
      "2025-04-03 09:59:31.041914: I tensorflow/cc/saved_model/loader.cc:213] Running initialization op on SavedModel bundle at path: /var/folders/6f/m_ls96295sl5v0q5fc8hxjx40000gn/T/tmpatsvx3nd\n",
      "2025-04-03 09:59:31.044631: I tensorflow/cc/saved_model/loader.cc:305] SavedModel load for tags { serve }; Status: success: OK. Took 20644 microseconds.\n",
      "2025-04-03 09:59:31.062523: I tensorflow/compiler/mlir/tensorflow/utils/dump_mlir_util.cc:268] disabling MLIR crash reproducer, set env var `MLIR_CRASH_REPRODUCER_DIRECTORY` to enable.\n"
     ]
    }
   ],
   "execution_count": 1
  },
  {
   "metadata": {},
   "cell_type": "markdown",
   "source": [
    "# Rozpoznávání zvuku pomocí MFCC a MLP\n",
    "Tento příklad načte zvukový soubor, extrahuje z něj MFCC příznaky a použije je pro klasifikaci (např. rozpoznání slova „yes“)."
   ],
   "id": "320b16b31e72fe81"
  },
  {
   "metadata": {
    "ExecuteTime": {
     "end_time": "2025-04-02T16:26:45.896132Z",
     "start_time": "2025-04-02T16:26:38.639871Z"
    }
   },
   "cell_type": "code",
   "source": [
    "import librosa\n",
    "import numpy as np\n",
    "import tensorflow as tf\n",
    "from sklearn.model_selection import train_test_split\n",
    "\n",
    "# 1. Načtení WAV souboru a výpočet MFCC\n",
    "audio_path = 'audio_yes.wav'  # nahraď svou cestou\n",
    "y, sr = librosa.load(audio_path, sr=16000)\n",
    "mfcc = librosa.feature.mfcc(y=y, sr=sr, n_mfcc=13)\n",
    "mfcc_mean = np.mean(mfcc, axis=1)\n",
    "\n",
    "# 2. Příprava dat (v tomto příkladu syntetická binární klasifikace yes/no)\n",
    "X = np.array([mfcc_mean, mfcc_mean + np.random.normal(0, 0.1, 13)])\n",
    "y = np.array([1, 0])  # 1 = yes, 0 = noise\n",
    "\n",
    "X_train, X_test, y_train, y_test = train_test_split(X, y, test_size=0.5)\n",
    "\n",
    "# 3. Vytvoření MLP modelu\n",
    "model = tf.keras.Sequential([\n",
    "    tf.keras.layers.Input(shape=(13,)),\n",
    "    tf.keras.layers.Dense(32, activation='relu'),\n",
    "    tf.keras.layers.Dense(1, activation='sigmoid')\n",
    "])\n",
    "model.compile(optimizer='adam', loss='binary_crossentropy', metrics=['accuracy'])\n",
    "model.fit(X_train, y_train, epochs=15)\n",
    "\n",
    "# 4. Vyhodnocení a export\n",
    "loss, acc = model.evaluate(X_test, y_test)\n",
    "print(f\"Test accuracy: {acc:.2f}\")\n",
    "\n",
    "# 5. Export do .tflite\n",
    "converter = tf.lite.TFLiteConverter.from_keras_model(model)\n",
    "tflite_model = converter.convert()\n",
    "with open(\"audio_mfcc_model.tflite\", \"wb\") as f:\n",
    "    f.write(tflite_model)"
   ],
   "id": "19e4c74aa806ab6c",
   "outputs": [
    {
     "name": "stdout",
     "output_type": "stream",
     "text": [
      "Epoch 1/15\n",
      "\u001B[1m1/1\u001B[0m \u001B[32m━━━━━━━━━━━━━━━━━━━━\u001B[0m\u001B[37m\u001B[0m \u001B[1m0s\u001B[0m 328ms/step - accuracy: 1.0000 - loss: 1.0528e-27\n",
      "Epoch 2/15\n",
      "\u001B[1m1/1\u001B[0m \u001B[32m━━━━━━━━━━━━━━━━━━━━\u001B[0m\u001B[37m\u001B[0m \u001B[1m0s\u001B[0m 8ms/step - accuracy: 1.0000 - loss: 1.0528e-27\n",
      "Epoch 3/15\n",
      "\u001B[1m1/1\u001B[0m \u001B[32m━━━━━━━━━━━━━━━━━━━━\u001B[0m\u001B[37m\u001B[0m \u001B[1m0s\u001B[0m 8ms/step - accuracy: 1.0000 - loss: 1.0528e-27\n",
      "Epoch 4/15\n",
      "\u001B[1m1/1\u001B[0m \u001B[32m━━━━━━━━━━━━━━━━━━━━\u001B[0m\u001B[37m\u001B[0m \u001B[1m0s\u001B[0m 8ms/step - accuracy: 1.0000 - loss: 1.0528e-27\n",
      "Epoch 5/15\n",
      "\u001B[1m1/1\u001B[0m \u001B[32m━━━━━━━━━━━━━━━━━━━━\u001B[0m\u001B[37m\u001B[0m \u001B[1m0s\u001B[0m 8ms/step - accuracy: 1.0000 - loss: 1.0528e-27\n",
      "Epoch 6/15\n",
      "\u001B[1m1/1\u001B[0m \u001B[32m━━━━━━━━━━━━━━━━━━━━\u001B[0m\u001B[37m\u001B[0m \u001B[1m0s\u001B[0m 9ms/step - accuracy: 1.0000 - loss: 1.0528e-27\n",
      "Epoch 7/15\n",
      "\u001B[1m1/1\u001B[0m \u001B[32m━━━━━━━━━━━━━━━━━━━━\u001B[0m\u001B[37m\u001B[0m \u001B[1m0s\u001B[0m 8ms/step - accuracy: 1.0000 - loss: 1.0528e-27\n",
      "Epoch 8/15\n",
      "\u001B[1m1/1\u001B[0m \u001B[32m━━━━━━━━━━━━━━━━━━━━\u001B[0m\u001B[37m\u001B[0m \u001B[1m0s\u001B[0m 8ms/step - accuracy: 1.0000 - loss: 1.0528e-27\n",
      "Epoch 9/15\n",
      "\u001B[1m1/1\u001B[0m \u001B[32m━━━━━━━━━━━━━━━━━━━━\u001B[0m\u001B[37m\u001B[0m \u001B[1m0s\u001B[0m 9ms/step - accuracy: 1.0000 - loss: 1.0528e-27\n",
      "Epoch 10/15\n",
      "\u001B[1m1/1\u001B[0m \u001B[32m━━━━━━━━━━━━━━━━━━━━\u001B[0m\u001B[37m\u001B[0m \u001B[1m0s\u001B[0m 7ms/step - accuracy: 1.0000 - loss: 1.0528e-27\n",
      "Epoch 11/15\n",
      "\u001B[1m1/1\u001B[0m \u001B[32m━━━━━━━━━━━━━━━━━━━━\u001B[0m\u001B[37m\u001B[0m \u001B[1m0s\u001B[0m 8ms/step - accuracy: 1.0000 - loss: 1.0528e-27\n",
      "Epoch 12/15\n",
      "\u001B[1m1/1\u001B[0m \u001B[32m━━━━━━━━━━━━━━━━━━━━\u001B[0m\u001B[37m\u001B[0m \u001B[1m0s\u001B[0m 7ms/step - accuracy: 1.0000 - loss: 1.0528e-27\n",
      "Epoch 13/15\n",
      "\u001B[1m1/1\u001B[0m \u001B[32m━━━━━━━━━━━━━━━━━━━━\u001B[0m\u001B[37m\u001B[0m \u001B[1m0s\u001B[0m 8ms/step - accuracy: 1.0000 - loss: 1.0528e-27\n",
      "Epoch 14/15\n",
      "\u001B[1m1/1\u001B[0m \u001B[32m━━━━━━━━━━━━━━━━━━━━\u001B[0m\u001B[37m\u001B[0m \u001B[1m0s\u001B[0m 7ms/step - accuracy: 1.0000 - loss: 1.0528e-27\n",
      "Epoch 15/15\n",
      "\u001B[1m1/1\u001B[0m \u001B[32m━━━━━━━━━━━━━━━━━━━━\u001B[0m\u001B[37m\u001B[0m \u001B[1m0s\u001B[0m 8ms/step - accuracy: 1.0000 - loss: 1.0528e-27\n",
      "\u001B[1m1/1\u001B[0m \u001B[32m━━━━━━━━━━━━━━━━━━━━\u001B[0m\u001B[37m\u001B[0m \u001B[1m0s\u001B[0m 35ms/step - accuracy: 0.0000e+00 - loss: 62.0670\n",
      "Test accuracy: 0.00\n",
      "INFO:tensorflow:Assets written to: /var/folders/6f/m_ls96295sl5v0q5fc8hxjx40000gn/T/tmpwfvknglb/assets\n"
     ]
    },
    {
     "name": "stderr",
     "output_type": "stream",
     "text": [
      "INFO:tensorflow:Assets written to: /var/folders/6f/m_ls96295sl5v0q5fc8hxjx40000gn/T/tmpwfvknglb/assets\n"
     ]
    },
    {
     "name": "stdout",
     "output_type": "stream",
     "text": [
      "Saved artifact at '/var/folders/6f/m_ls96295sl5v0q5fc8hxjx40000gn/T/tmpwfvknglb'. The following endpoints are available:\n",
      "\n",
      "* Endpoint 'serve'\n",
      "  args_0 (POSITIONAL_ONLY): TensorSpec(shape=(None, 13), dtype=tf.float32, name='keras_tensor')\n",
      "Output Type:\n",
      "  TensorSpec(shape=(None, 1), dtype=tf.float32, name=None)\n",
      "Captures:\n",
      "  6247702288: TensorSpec(shape=(), dtype=tf.resource, name=None)\n",
      "  6247702480: TensorSpec(shape=(), dtype=tf.resource, name=None)\n",
      "  13386889744: TensorSpec(shape=(), dtype=tf.resource, name=None)\n",
      "  13386888592: TensorSpec(shape=(), dtype=tf.resource, name=None)\n"
     ]
    },
    {
     "name": "stderr",
     "output_type": "stream",
     "text": [
      "WARNING: All log messages before absl::InitializeLog() is called are written to STDERR\n",
      "W0000 00:00:1743611205.781359 5586358 tf_tfl_flatbuffer_helpers.cc:365] Ignored output_format.\n",
      "W0000 00:00:1743611205.781621 5586358 tf_tfl_flatbuffer_helpers.cc:368] Ignored drop_control_dependency.\n",
      "2025-04-02 18:26:45.782275: I tensorflow/cc/saved_model/reader.cc:83] Reading SavedModel from: /var/folders/6f/m_ls96295sl5v0q5fc8hxjx40000gn/T/tmpwfvknglb\n",
      "2025-04-02 18:26:45.782590: I tensorflow/cc/saved_model/reader.cc:52] Reading meta graph with tags { serve }\n",
      "2025-04-02 18:26:45.782593: I tensorflow/cc/saved_model/reader.cc:147] Reading SavedModel debug info (if present) from: /var/folders/6f/m_ls96295sl5v0q5fc8hxjx40000gn/T/tmpwfvknglb\n",
      "I0000 00:00:1743611205.783972 5586358 mlir_graph_optimization_pass.cc:401] MLIR V1 optimization pass is not enabled\n",
      "2025-04-02 18:26:45.784136: I tensorflow/cc/saved_model/loader.cc:236] Restoring SavedModel bundle.\n",
      "2025-04-02 18:26:45.796074: I tensorflow/cc/saved_model/loader.cc:220] Running initialization op on SavedModel bundle at path: /var/folders/6f/m_ls96295sl5v0q5fc8hxjx40000gn/T/tmpwfvknglb\n",
      "2025-04-02 18:26:45.798533: I tensorflow/cc/saved_model/loader.cc:466] SavedModel load for tags { serve }; Status: success: OK. Took 16260 microseconds.\n",
      "2025-04-02 18:26:45.823420: I tensorflow/compiler/mlir/tensorflow/utils/dump_mlir_util.cc:268] disabling MLIR crash reproducer, set env var `MLIR_CRASH_REPRODUCER_DIRECTORY` to enable.\n"
     ]
    }
   ],
   "execution_count": 1
  },
  {
   "metadata": {},
   "cell_type": "markdown",
   "source": [
    "# Rozpoznávání obrazu pomocí MobileNetV2\n",
    "Tento příklad používá MobileNetV2 jako základ a přetrénuje výstupní vrstvy pro vlastní třídy (např. klasifikace „cat“, „dog“). Funguje pro malé obrázky (např. z ESP32-CAM)."
   ],
   "id": "fda4fd18b8088230"
  },
  {
   "metadata": {
    "ExecuteTime": {
     "end_time": "2025-04-02T09:42:47.787958Z",
     "start_time": "2025-04-02T09:40:58.907405Z"
    }
   },
   "cell_type": "code",
   "source": [
    "import tensorflow as tf\n",
    "import tensorflow_datasets as tfds\n",
    "\n",
    "# 1. Načtení datasetu – použijeme ukázkový z TFDS\n",
    "(train_ds, val_ds), ds_info = tfds.load('cats_vs_dogs', split=['train[:80%]', 'train[80%:]'],\n",
    "                                        shuffle_files=True, as_supervised=True, with_info=True)\n",
    "\n",
    "IMG_SIZE = 96\n",
    "\n",
    "def preprocess(image, label):\n",
    "    image = tf.image.resize(image, (IMG_SIZE, IMG_SIZE)) / 255.0\n",
    "    return image, label\n",
    "\n",
    "train_ds = train_ds.map(preprocess).batch(32).prefetch(tf.data.AUTOTUNE)\n",
    "val_ds = val_ds.map(preprocess).batch(32).prefetch(tf.data.AUTOTUNE)\n",
    "\n",
    "# 2. Model založený na MobileNetV2\n",
    "base_model = tf.keras.applications.MobileNetV2(input_shape=(IMG_SIZE, IMG_SIZE, 3),\n",
    "                                               include_top=False, weights='imagenet')\n",
    "base_model.trainable = False\n",
    "\n",
    "model = tf.keras.Sequential([\n",
    "    base_model,\n",
    "    tf.keras.layers.GlobalAveragePooling2D(),\n",
    "    tf.keras.layers.Dense(1, activation='sigmoid')\n",
    "])\n",
    "\n",
    "model.compile(optimizer='adam', loss='binary_crossentropy', metrics=['accuracy'])\n",
    "model.fit(train_ds, validation_data=val_ds, epochs=3)\n",
    "\n",
    "# 3. Export do TFLite\n",
    "converter = tf.lite.TFLiteConverter.from_keras_model(model)\n",
    "tflite_model = converter.convert()\n",
    "with open('mobilenet_image_model.tflite', 'wb') as f:\n",
    "    f.write(tflite_model)\n"
   ],
   "id": "1ff3daae07f65ce4",
   "outputs": [
    {
     "name": "stderr",
     "output_type": "stream",
     "text": [
      "/opt/anaconda3/envs/CondaAiProjectTF210/lib/python3.8/site-packages/tqdm/auto.py:21: TqdmWarning: IProgress not found. Please update jupyter and ipywidgets. See https://ipywidgets.readthedocs.io/en/stable/user_install.html\n",
      "  from .autonotebook import tqdm as notebook_tqdm\n",
      "2025-04-02 11:40:59.232208: W tensorflow/core/platform/cloud/google_auth_provider.cc:184] All attempts to get a Google authentication bearer token failed, returning an empty token. Retrieving token from files failed with \"NOT_FOUND: Could not locate the credentials file.\". Retrieving token from GCE failed with \"FAILED_PRECONDITION: Error executing an HTTP request: libcurl code 6 meaning 'Couldn't resolve host name', error details: Could not resolve host: metadata\".\n"
     ]
    },
    {
     "name": "stdout",
     "output_type": "stream",
     "text": [
      "\u001B[1mDownloading and preparing dataset 786.68 MiB (download: 786.68 MiB, generated: Unknown size, total: 786.68 MiB) to /Users/milannovak/tensorflow_datasets/cats_vs_dogs/4.0.0...\u001B[0m\n"
     ]
    },
    {
     "name": "stderr",
     "output_type": "stream",
     "text": [
      "Dl Completed...: 0 url [00:00, ? url/s]\n",
      "Dl Completed...:   0%|          | 0/1 [00:00<?, ? url/s]\n",
      "Dl Completed...:   0%|          | 0/1 [00:00<?, ? url/s]\n",
      "Dl Size...:   0%|          | 0/786 [00:00<?, ? MiB/s]\u001B[A\n",
      "Dl Completed...:   0%|          | 0/1 [00:00<?, ? url/s]iB/s]\u001B[A\n",
      "Dl Completed...:   0%|          | 0/1 [00:00<?, ? url/s]iB/s]\u001B[A\n",
      "Dl Completed...:   0%|          | 0/1 [00:00<?, ? url/s]iB/s]\u001B[A\n",
      "Dl Completed...:   0%|          | 0/1 [00:00<?, ? url/s]iB/s]\u001B[A\n",
      "Dl Completed...:   0%|          | 0/1 [00:00<?, ? url/s]iB/s]\u001B[A\n",
      "Dl Completed...:   0%|          | 0/1 [00:00<?, ? url/s]iB/s]\u001B[A\n",
      "Dl Completed...:   0%|          | 0/1 [00:00<?, ? url/s]iB/s]\u001B[A\n",
      "Dl Completed...:   0%|          | 0/1 [00:00<?, ? url/s]iB/s]\u001B[A\n",
      "Dl Completed...:   0%|          | 0/1 [00:00<?, ? url/s]iB/s]\u001B[A\n",
      "Dl Size...:   1%|          | 9/786 [00:00<03:34,  3.63 MiB/s]\u001B[A\n",
      "Dl Completed...:   0%|          | 0/1 [00:00<?, ? url/s]MiB/s]\u001B[A\n",
      "Dl Completed...:   0%|          | 0/1 [00:00<?, ? url/s]MiB/s]\u001B[A\n",
      "Dl Completed...:   0%|          | 0/1 [00:00<?, ? url/s]MiB/s]\u001B[A\n",
      "Dl Completed...:   0%|          | 0/1 [00:00<?, ? url/s]MiB/s]\u001B[A\n",
      "Dl Completed...:   0%|          | 0/1 [00:00<?, ? url/s]MiB/s]\u001B[A\n",
      "Dl Completed...:   0%|          | 0/1 [00:00<?, ? url/s]MiB/s]\u001B[A\n",
      "Dl Completed...:   0%|          | 0/1 [00:00<?, ? url/s]MiB/s]\u001B[A\n",
      "Dl Completed...:   0%|          | 0/1 [00:00<?, ? url/s]MiB/s]\u001B[A\n",
      "Dl Completed...:   0%|          | 0/1 [00:00<?, ? url/s]MiB/s]\u001B[A\n",
      "Dl Size...:   2%|▏         | 18/786 [00:00<00:23, 32.63 MiB/s]\u001B[A\n",
      "Dl Completed...:   0%|          | 0/1 [00:00<?, ? url/s]MiB/s]\u001B[A\n",
      "Dl Completed...:   0%|          | 0/1 [00:00<?, ? url/s]MiB/s]\u001B[A\n",
      "Dl Completed...:   0%|          | 0/1 [00:00<?, ? url/s]MiB/s]\u001B[A\n",
      "Dl Completed...:   0%|          | 0/1 [00:00<?, ? url/s]MiB/s]\u001B[A\n",
      "Dl Completed...:   0%|          | 0/1 [00:00<?, ? url/s]MiB/s]\u001B[A\n",
      "Dl Completed...:   0%|          | 0/1 [00:00<?, ? url/s]MiB/s]\u001B[A\n",
      "Dl Completed...:   0%|          | 0/1 [00:00<?, ? url/s]MiB/s]\u001B[A\n",
      "Dl Size...:   3%|▎         | 25/786 [00:00<00:14, 50.84 MiB/s]\u001B[A\n",
      "Dl Completed...:   0%|          | 0/1 [00:00<?, ? url/s]MiB/s]\u001B[A\n",
      "Dl Completed...:   0%|          | 0/1 [00:00<?, ? url/s]MiB/s]\u001B[A\n",
      "Dl Completed...:   0%|          | 0/1 [00:00<?, ? url/s]MiB/s]\u001B[A\n",
      "Dl Completed...:   0%|          | 0/1 [00:00<?, ? url/s]MiB/s]\u001B[A\n",
      "Dl Completed...:   0%|          | 0/1 [00:00<?, ? url/s]MiB/s]\u001B[A\n",
      "Dl Completed...:   0%|          | 0/1 [00:00<?, ? url/s]MiB/s]\u001B[A\n",
      "Dl Completed...:   0%|          | 0/1 [00:00<?, ? url/s]MiB/s]\u001B[A\n",
      "Dl Size...:   4%|▍         | 32/786 [00:00<00:14, 53.42 MiB/s]\u001B[A\n",
      "Dl Completed...:   0%|          | 0/1 [00:00<?, ? url/s]MiB/s]\u001B[A\n",
      "Dl Completed...:   0%|          | 0/1 [00:00<?, ? url/s]MiB/s]\u001B[A\n",
      "Dl Completed...:   0%|          | 0/1 [00:00<?, ? url/s]MiB/s]\u001B[A\n",
      "Dl Completed...:   0%|          | 0/1 [00:00<?, ? url/s]MiB/s]\u001B[A\n",
      "Dl Completed...:   0%|          | 0/1 [00:00<?, ? url/s]MiB/s]\u001B[A\n",
      "Dl Completed...:   0%|          | 0/1 [00:00<?, ? url/s]MiB/s]\u001B[A\n",
      "Dl Completed...:   0%|          | 0/1 [00:00<?, ? url/s]MiB/s]\u001B[A\n",
      "Dl Completed...:   0%|          | 0/1 [00:00<?, ? url/s]MiB/s]\u001B[A\n",
      "Dl Completed...:   0%|          | 0/1 [00:00<?, ? url/s]MiB/s]\u001B[A\n",
      "Dl Completed...:   0%|          | 0/1 [00:00<?, ? url/s]MiB/s]\u001B[A\n",
      "Dl Completed...:   0%|          | 0/1 [00:00<?, ? url/s]MiB/s]\u001B[A\n",
      "Dl Size...:   5%|▌         | 43/786 [00:00<00:13, 57.09 MiB/s]\u001B[A\n",
      "Dl Completed...:   0%|          | 0/1 [00:00<?, ? url/s]MiB/s]\u001B[A\n",
      "Dl Completed...:   0%|          | 0/1 [00:00<?, ? url/s]MiB/s]\u001B[A\n",
      "Dl Completed...:   0%|          | 0/1 [00:00<?, ? url/s]MiB/s]\u001B[A\n",
      "Dl Completed...:   0%|          | 0/1 [00:00<?, ? url/s]MiB/s]\u001B[A\n",
      "Dl Completed...:   0%|          | 0/1 [00:00<?, ? url/s]MiB/s]\u001B[A\n",
      "Dl Completed...:   0%|          | 0/1 [00:00<?, ? url/s]MiB/s]\u001B[A\n",
      "Dl Completed...:   0%|          | 0/1 [00:00<?, ? url/s]MiB/s]\u001B[A\n",
      "Dl Completed...:   0%|          | 0/1 [00:00<?, ? url/s]MiB/s]\u001B[A\n",
      "Dl Completed...:   0%|          | 0/1 [00:00<?, ? url/s]MiB/s]\u001B[A\n",
      "Dl Completed...:   0%|          | 0/1 [00:00<?, ? url/s]MiB/s]\u001B[A\n",
      "Dl Completed...:   0%|          | 0/1 [00:00<?, ? url/s]MiB/s]\u001B[A\n",
      "Dl Size...:   7%|▋         | 54/786 [00:00<00:10, 71.91 MiB/s]\u001B[A\n",
      "Dl Completed...:   0%|          | 0/1 [00:00<?, ? url/s]MiB/s]\u001B[A\n",
      "Dl Completed...:   0%|          | 0/1 [00:00<?, ? url/s]MiB/s]\u001B[A\n",
      "Dl Completed...:   0%|          | 0/1 [00:00<?, ? url/s]MiB/s]\u001B[A\n",
      "Dl Completed...:   0%|          | 0/1 [00:00<?, ? url/s]MiB/s]\u001B[A\n",
      "Dl Completed...:   0%|          | 0/1 [00:00<?, ? url/s]MiB/s]\u001B[A\n",
      "Dl Completed...:   0%|          | 0/1 [00:00<?, ? url/s]MiB/s]\u001B[A\n",
      "Dl Completed...:   0%|          | 0/1 [00:00<?, ? url/s]MiB/s]\u001B[A\n",
      "Dl Completed...:   0%|          | 0/1 [00:00<?, ? url/s]MiB/s]\u001B[A\n",
      "Dl Completed...:   0%|          | 0/1 [00:00<?, ? url/s]MiB/s]\u001B[A\n",
      "Dl Completed...:   0%|          | 0/1 [00:01<?, ? url/s]MiB/s]\u001B[A\n",
      "Dl Size...:   8%|▊         | 64/786 [00:01<00:08, 81.80 MiB/s]\u001B[A\n",
      "Dl Completed...:   0%|          | 0/1 [00:01<?, ? url/s]MiB/s]\u001B[A\n",
      "Dl Completed...:   0%|          | 0/1 [00:01<?, ? url/s]MiB/s]\u001B[A\n",
      "Dl Completed...:   0%|          | 0/1 [00:01<?, ? url/s]MiB/s]\u001B[A\n",
      "Dl Completed...:   0%|          | 0/1 [00:01<?, ? url/s]MiB/s]\u001B[A\n",
      "Dl Completed...:   0%|          | 0/1 [00:01<?, ? url/s]MiB/s]\u001B[A\n",
      "Dl Completed...:   0%|          | 0/1 [00:01<?, ? url/s]MiB/s]\u001B[A\n",
      "Dl Completed...:   0%|          | 0/1 [00:01<?, ? url/s]MiB/s]\u001B[A\n",
      "Dl Completed...:   0%|          | 0/1 [00:01<?, ? url/s]MiB/s]\u001B[A\n",
      "Dl Completed...:   0%|          | 0/1 [00:01<?, ? url/s]MiB/s]\u001B[A\n",
      "Dl Completed...:   0%|          | 0/1 [00:01<?, ? url/s]MiB/s]\u001B[A\n",
      "Dl Completed...:   0%|          | 0/1 [00:01<?, ? url/s]MiB/s]\u001B[A\n",
      "Dl Completed...:   0%|          | 0/1 [00:01<?, ? url/s]MiB/s]\u001B[A\n",
      "Dl Size...:  10%|▉         | 76/786 [00:01<00:08, 86.45 MiB/s]\u001B[A\n",
      "Dl Completed...:   0%|          | 0/1 [00:01<?, ? url/s]MiB/s]\u001B[A\n",
      "Dl Completed...:   0%|          | 0/1 [00:01<?, ? url/s]MiB/s]\u001B[A\n",
      "Dl Completed...:   0%|          | 0/1 [00:01<?, ? url/s]MiB/s]\u001B[A\n",
      "Dl Completed...:   0%|          | 0/1 [00:01<?, ? url/s]MiB/s]\u001B[A\n",
      "Dl Completed...:   0%|          | 0/1 [00:01<?, ? url/s]MiB/s]\u001B[A\n",
      "Dl Completed...:   0%|          | 0/1 [00:01<?, ? url/s]MiB/s]\u001B[A\n",
      "Dl Completed...:   0%|          | 0/1 [00:01<?, ? url/s]MiB/s]\u001B[A\n",
      "Dl Completed...:   0%|          | 0/1 [00:01<?, ? url/s]MiB/s]\u001B[A\n",
      "Dl Completed...:   0%|          | 0/1 [00:01<?, ? url/s]MiB/s]\u001B[A\n",
      "Dl Completed...:   0%|          | 0/1 [00:01<?, ? url/s]MiB/s]\u001B[A\n",
      "Dl Size...:  11%|█         | 86/786 [00:01<00:07, 92.85 MiB/s]\u001B[A\n",
      "Dl Completed...:   0%|          | 0/1 [00:01<?, ? url/s]MiB/s]\u001B[A\n",
      "Dl Completed...:   0%|          | 0/1 [00:01<?, ? url/s]MiB/s]\u001B[A\n",
      "Dl Completed...:   0%|          | 0/1 [00:01<?, ? url/s]MiB/s]\u001B[A\n",
      "Dl Completed...:   0%|          | 0/1 [00:01<?, ? url/s]MiB/s]\u001B[A\n",
      "Dl Completed...:   0%|          | 0/1 [00:01<?, ? url/s]MiB/s]\u001B[A\n",
      "Dl Completed...:   0%|          | 0/1 [00:01<?, ? url/s]MiB/s]\u001B[A\n",
      "Dl Completed...:   0%|          | 0/1 [00:01<?, ? url/s]MiB/s]\u001B[A\n",
      "Dl Completed...:   0%|          | 0/1 [00:01<?, ? url/s]MiB/s]\u001B[A\n",
      "Dl Completed...:   0%|          | 0/1 [00:01<?, ? url/s]MiB/s]\u001B[A\n",
      "Dl Completed...:   0%|          | 0/1 [00:01<?, ? url/s]MiB/s]\u001B[A\n",
      "Dl Size...:  12%|█▏        | 96/786 [00:01<00:07, 93.60 MiB/s]\u001B[A\n",
      "Dl Completed...:   0%|          | 0/1 [00:01<?, ? url/s]MiB/s]\u001B[A\n",
      "Dl Completed...:   0%|          | 0/1 [00:01<?, ? url/s]MiB/s]\u001B[A\n",
      "Dl Completed...:   0%|          | 0/1 [00:01<?, ? url/s]MiB/s]\u001B[A\n",
      "Dl Completed...:   0%|          | 0/1 [00:01<?, ? url/s]MiB/s]\u001B[A\n",
      "Dl Completed...:   0%|          | 0/1 [00:01<?, ? url/s] MiB/s]\u001B[A\n",
      "Dl Completed...:   0%|          | 0/1 [00:01<?, ? url/s] MiB/s]\u001B[A\n",
      "Dl Completed...:   0%|          | 0/1 [00:01<?, ? url/s] MiB/s]\u001B[A\n",
      "Dl Completed...:   0%|          | 0/1 [00:01<?, ? url/s] MiB/s]\u001B[A\n",
      "Dl Completed...:   0%|          | 0/1 [00:01<?, ? url/s] MiB/s]\u001B[A\n",
      "Dl Completed...:   0%|          | 0/1 [00:01<?, ? url/s] MiB/s]\u001B[A\n",
      "Dl Size...:  13%|█▎        | 106/786 [00:01<00:07, 92.44 MiB/s]\u001B[A\n",
      "Dl Completed...:   0%|          | 0/1 [00:01<?, ? url/s] MiB/s]\u001B[A\n",
      "Dl Completed...:   0%|          | 0/1 [00:01<?, ? url/s] MiB/s]\u001B[A\n",
      "Dl Completed...:   0%|          | 0/1 [00:01<?, ? url/s] MiB/s]\u001B[A\n",
      "Dl Completed...:   0%|          | 0/1 [00:01<?, ? url/s] MiB/s]\u001B[A\n",
      "Dl Completed...:   0%|          | 0/1 [00:01<?, ? url/s] MiB/s]\u001B[A\n",
      "Dl Completed...:   0%|          | 0/1 [00:01<?, ? url/s] MiB/s]\u001B[A\n",
      "Dl Completed...:   0%|          | 0/1 [00:01<?, ? url/s] MiB/s]\u001B[A\n",
      "Dl Completed...:   0%|          | 0/1 [00:01<?, ? url/s] MiB/s]\u001B[A\n",
      "Dl Completed...:   0%|          | 0/1 [00:01<?, ? url/s] MiB/s]\u001B[A\n",
      "Dl Completed...:   0%|          | 0/1 [00:01<?, ? url/s] MiB/s]\u001B[A\n",
      "Dl Size...:  15%|█▍        | 116/786 [00:01<00:07, 93.23 MiB/s]\u001B[A\n",
      "Dl Completed...:   0%|          | 0/1 [00:01<?, ? url/s] MiB/s]\u001B[A\n",
      "Dl Completed...:   0%|          | 0/1 [00:01<?, ? url/s] MiB/s]\u001B[A\n",
      "Dl Completed...:   0%|          | 0/1 [00:01<?, ? url/s] MiB/s]\u001B[A\n",
      "Dl Completed...:   0%|          | 0/1 [00:01<?, ? url/s] MiB/s]\u001B[A\n",
      "Dl Completed...:   0%|          | 0/1 [00:01<?, ? url/s] MiB/s]\u001B[A\n",
      "Dl Completed...:   0%|          | 0/1 [00:01<?, ? url/s] MiB/s]\u001B[A\n",
      "Dl Completed...:   0%|          | 0/1 [00:01<?, ? url/s] MiB/s]\u001B[A\n",
      "Dl Completed...:   0%|          | 0/1 [00:01<?, ? url/s] MiB/s]\u001B[A\n",
      "Dl Completed...:   0%|          | 0/1 [00:01<?, ? url/s] MiB/s]\u001B[A\n",
      "Dl Size...:  16%|█▌        | 125/786 [00:01<00:07, 88.04 MiB/s]\u001B[A\n",
      "Dl Completed...:   0%|          | 0/1 [00:01<?, ? url/s] MiB/s]\u001B[A\n",
      "Dl Completed...:   0%|          | 0/1 [00:01<?, ? url/s] MiB/s]\u001B[A\n",
      "Dl Completed...:   0%|          | 0/1 [00:01<?, ? url/s] MiB/s]\u001B[A\n",
      "Dl Completed...:   0%|          | 0/1 [00:01<?, ? url/s] MiB/s]\u001B[A\n",
      "Dl Completed...:   0%|          | 0/1 [00:01<?, ? url/s] MiB/s]\u001B[A\n",
      "Dl Completed...:   0%|          | 0/1 [00:01<?, ? url/s] MiB/s]\u001B[A\n",
      "Dl Completed...:   0%|          | 0/1 [00:01<?, ? url/s] MiB/s]\u001B[A\n",
      "Dl Completed...:   0%|          | 0/1 [00:01<?, ? url/s] MiB/s]\u001B[A\n",
      "Dl Completed...:   0%|          | 0/1 [00:01<?, ? url/s] MiB/s]\u001B[A\n",
      "Dl Size...:  17%|█▋        | 134/786 [00:01<00:07, 87.18 MiB/s]\u001B[A\n",
      "Dl Completed...:   0%|          | 0/1 [00:01<?, ? url/s] MiB/s]\u001B[A\n",
      "Dl Completed...:   0%|          | 0/1 [00:01<?, ? url/s] MiB/s]\u001B[A\n",
      "Dl Completed...:   0%|          | 0/1 [00:01<?, ? url/s] MiB/s]\u001B[A\n",
      "Dl Completed...:   0%|          | 0/1 [00:01<?, ? url/s] MiB/s]\u001B[A\n",
      "Dl Completed...:   0%|          | 0/1 [00:01<?, ? url/s] MiB/s]\u001B[A\n",
      "Dl Completed...:   0%|          | 0/1 [00:01<?, ? url/s] MiB/s]\u001B[A\n",
      "Dl Completed...:   0%|          | 0/1 [00:01<?, ? url/s] MiB/s]\u001B[A\n",
      "Dl Completed...:   0%|          | 0/1 [00:01<?, ? url/s] MiB/s]\u001B[A\n",
      "Dl Completed...:   0%|          | 0/1 [00:01<?, ? url/s] MiB/s]\u001B[A\n",
      "Dl Size...:  18%|█▊        | 143/786 [00:01<00:07, 81.81 MiB/s]\u001B[A\n",
      "Dl Completed...:   0%|          | 0/1 [00:01<?, ? url/s] MiB/s]\u001B[A\n",
      "Dl Completed...:   0%|          | 0/1 [00:01<?, ? url/s] MiB/s]\u001B[A\n",
      "Dl Completed...:   0%|          | 0/1 [00:01<?, ? url/s] MiB/s]\u001B[A\n",
      "Dl Completed...:   0%|          | 0/1 [00:01<?, ? url/s] MiB/s]\u001B[A\n",
      "Dl Completed...:   0%|          | 0/1 [00:01<?, ? url/s] MiB/s]\u001B[A\n",
      "Dl Completed...:   0%|          | 0/1 [00:01<?, ? url/s] MiB/s]\u001B[A\n",
      "Dl Completed...:   0%|          | 0/1 [00:01<?, ? url/s] MiB/s]\u001B[A\n",
      "Dl Completed...:   0%|          | 0/1 [00:01<?, ? url/s] MiB/s]\u001B[A\n",
      "Dl Completed...:   0%|          | 0/1 [00:01<?, ? url/s] MiB/s]\u001B[A\n",
      "Dl Completed...:   0%|          | 0/1 [00:02<?, ? url/s] MiB/s]\u001B[A\n",
      "Dl Size...:  19%|█▉        | 153/786 [00:02<00:07, 83.88 MiB/s]\u001B[A\n",
      "Dl Completed...:   0%|          | 0/1 [00:02<?, ? url/s] MiB/s]\u001B[A\n",
      "Dl Completed...:   0%|          | 0/1 [00:02<?, ? url/s] MiB/s]\u001B[A\n",
      "Dl Completed...:   0%|          | 0/1 [00:02<?, ? url/s] MiB/s]\u001B[A\n",
      "Dl Completed...:   0%|          | 0/1 [00:02<?, ? url/s] MiB/s]\u001B[A\n",
      "Dl Completed...:   0%|          | 0/1 [00:02<?, ? url/s] MiB/s]\u001B[A\n",
      "Dl Completed...:   0%|          | 0/1 [00:02<?, ? url/s] MiB/s]\u001B[A\n",
      "Dl Completed...:   0%|          | 0/1 [00:02<?, ? url/s] MiB/s]\u001B[A\n",
      "Dl Completed...:   0%|          | 0/1 [00:02<?, ? url/s] MiB/s]\u001B[A\n",
      "Dl Completed...:   0%|          | 0/1 [00:02<?, ? url/s] MiB/s]\u001B[A\n",
      "Dl Completed...:   0%|          | 0/1 [00:02<?, ? url/s] MiB/s]\u001B[A\n",
      "Dl Completed...:   0%|          | 0/1 [00:02<?, ? url/s] MiB/s]\u001B[A\n",
      "Dl Size...:  21%|██        | 164/786 [00:02<00:07, 87.98 MiB/s]\u001B[A\n",
      "Dl Completed...:   0%|          | 0/1 [00:02<?, ? url/s] MiB/s]\u001B[A\n",
      "Dl Completed...:   0%|          | 0/1 [00:02<?, ? url/s] MiB/s]\u001B[A\n",
      "Dl Completed...:   0%|          | 0/1 [00:02<?, ? url/s] MiB/s]\u001B[A\n",
      "Dl Completed...:   0%|          | 0/1 [00:02<?, ? url/s] MiB/s]\u001B[A\n",
      "Dl Completed...:   0%|          | 0/1 [00:02<?, ? url/s] MiB/s]\u001B[A\n",
      "Dl Completed...:   0%|          | 0/1 [00:02<?, ? url/s] MiB/s]\u001B[A\n",
      "Dl Completed...:   0%|          | 0/1 [00:02<?, ? url/s] MiB/s]\u001B[A\n",
      "Dl Completed...:   0%|          | 0/1 [00:02<?, ? url/s] MiB/s]\u001B[A\n",
      "Dl Completed...:   0%|          | 0/1 [00:02<?, ? url/s] MiB/s]\u001B[A\n",
      "Dl Completed...:   0%|          | 0/1 [00:02<?, ? url/s] MiB/s]\u001B[A\n",
      "Dl Completed...:   0%|          | 0/1 [00:02<?, ? url/s] MiB/s]\u001B[A\n",
      "Dl Size...:  22%|██▏       | 175/786 [00:02<00:06, 90.40 MiB/s]\u001B[A\n",
      "Dl Completed...:   0%|          | 0/1 [00:02<?, ? url/s] MiB/s]\u001B[A\n",
      "Dl Completed...:   0%|          | 0/1 [00:02<?, ? url/s] MiB/s]\u001B[A\n",
      "Dl Completed...:   0%|          | 0/1 [00:02<?, ? url/s] MiB/s]\u001B[A\n",
      "Dl Completed...:   0%|          | 0/1 [00:02<?, ? url/s] MiB/s]\u001B[A\n",
      "Dl Completed...:   0%|          | 0/1 [00:02<?, ? url/s] MiB/s]\u001B[A\n",
      "Dl Completed...:   0%|          | 0/1 [00:02<?, ? url/s] MiB/s]\u001B[A\n",
      "Dl Completed...:   0%|          | 0/1 [00:02<?, ? url/s] MiB/s]\u001B[A\n",
      "Dl Completed...:   0%|          | 0/1 [00:02<?, ? url/s] MiB/s]\u001B[A\n",
      "Dl Completed...:   0%|          | 0/1 [00:02<?, ? url/s] MiB/s]\u001B[A\n",
      "Dl Completed...:   0%|          | 0/1 [00:02<?, ? url/s] MiB/s]\u001B[A\n",
      "Dl Completed...:   0%|          | 0/1 [00:02<?, ? url/s] MiB/s]\u001B[A\n",
      "Dl Completed...:   0%|          | 0/1 [00:02<?, ? url/s] MiB/s]\u001B[A\n",
      "Dl Size...:  24%|██▍       | 187/786 [00:02<00:06, 95.87 MiB/s]\u001B[A\n",
      "Dl Completed...:   0%|          | 0/1 [00:02<?, ? url/s]4 MiB/s]\u001B[A\n",
      "Dl Completed...:   0%|          | 0/1 [00:02<?, ? url/s]4 MiB/s]\u001B[A\n",
      "Dl Completed...:   0%|          | 0/1 [00:02<?, ? url/s]4 MiB/s]\u001B[A\n",
      "Dl Completed...:   0%|          | 0/1 [00:02<?, ? url/s]4 MiB/s]\u001B[A\n",
      "Dl Completed...:   0%|          | 0/1 [00:02<?, ? url/s]4 MiB/s]\u001B[A\n",
      "Dl Completed...:   0%|          | 0/1 [00:02<?, ? url/s]4 MiB/s]\u001B[A\n",
      "Dl Completed...:   0%|          | 0/1 [00:02<?, ? url/s]4 MiB/s]\u001B[A\n",
      "Dl Completed...:   0%|          | 0/1 [00:02<?, ? url/s]4 MiB/s]\u001B[A\n",
      "Dl Completed...:   0%|          | 0/1 [00:02<?, ? url/s]4 MiB/s]\u001B[A\n",
      "Dl Completed...:   0%|          | 0/1 [00:02<?, ? url/s]4 MiB/s]\u001B[A\n",
      "Dl Completed...:   0%|          | 0/1 [00:02<?, ? url/s]4 MiB/s]\u001B[A\n",
      "Dl Completed...:   0%|          | 0/1 [00:02<?, ? url/s]4 MiB/s]\u001B[A\n",
      "Dl Size...:  25%|██▌       | 199/786 [00:02<00:05, 101.14 MiB/s]\u001B[A\n",
      "Dl Completed...:   0%|          | 0/1 [00:02<?, ? url/s]1 MiB/s]\u001B[A\n",
      "Dl Completed...:   0%|          | 0/1 [00:02<?, ? url/s]1 MiB/s]\u001B[A\n",
      "Dl Completed...:   0%|          | 0/1 [00:02<?, ? url/s]1 MiB/s]\u001B[A\n",
      "Dl Completed...:   0%|          | 0/1 [00:02<?, ? url/s]1 MiB/s]\u001B[A\n",
      "Dl Completed...:   0%|          | 0/1 [00:02<?, ? url/s]1 MiB/s]\u001B[A\n",
      "Dl Completed...:   0%|          | 0/1 [00:02<?, ? url/s]1 MiB/s]\u001B[A\n",
      "Dl Completed...:   0%|          | 0/1 [00:02<?, ? url/s]1 MiB/s]\u001B[A\n",
      "Dl Completed...:   0%|          | 0/1 [00:02<?, ? url/s]1 MiB/s]\u001B[A\n",
      "Dl Completed...:   0%|          | 0/1 [00:02<?, ? url/s]1 MiB/s]\u001B[A\n",
      "Dl Completed...:   0%|          | 0/1 [00:02<?, ? url/s]1 MiB/s]\u001B[A\n",
      "Dl Completed...:   0%|          | 0/1 [00:02<?, ? url/s]1 MiB/s]\u001B[A\n",
      "Dl Size...:  27%|██▋       | 210/786 [00:02<00:05, 103.61 MiB/s]\u001B[A\n",
      "Dl Completed...:   0%|          | 0/1 [00:02<?, ? url/s] MiB/s] \u001B[A\n",
      "Dl Completed...:   0%|          | 0/1 [00:02<?, ? url/s] MiB/s]\u001B[A\n",
      "Dl Completed...:   0%|          | 0/1 [00:02<?, ? url/s] MiB/s]\u001B[A\n",
      "Dl Completed...:   0%|          | 0/1 [00:02<?, ? url/s] MiB/s]\u001B[A\n",
      "Dl Completed...:   0%|          | 0/1 [00:02<?, ? url/s] MiB/s]\u001B[A\n",
      "Dl Completed...:   0%|          | 0/1 [00:02<?, ? url/s] MiB/s]\u001B[A\n",
      "Dl Completed...:   0%|          | 0/1 [00:02<?, ? url/s] MiB/s]\u001B[A\n",
      "Dl Completed...:   0%|          | 0/1 [00:02<?, ? url/s] MiB/s]\u001B[A\n",
      "Dl Completed...:   0%|          | 0/1 [00:02<?, ? url/s] MiB/s]\u001B[A\n",
      "Dl Completed...:   0%|          | 0/1 [00:02<?, ? url/s] MiB/s]\u001B[A\n",
      "Dl Size...:  28%|██▊       | 220/786 [00:02<00:06, 92.14 MiB/s]\u001B[A\n",
      "Dl Completed...:   0%|          | 0/1 [00:02<?, ? url/s] MiB/s]\u001B[A\n",
      "Dl Completed...:   0%|          | 0/1 [00:02<?, ? url/s] MiB/s]\u001B[A\n",
      "Dl Completed...:   0%|          | 0/1 [00:02<?, ? url/s] MiB/s]\u001B[A\n",
      "Dl Completed...:   0%|          | 0/1 [00:02<?, ? url/s] MiB/s]\u001B[A\n",
      "Dl Completed...:   0%|          | 0/1 [00:02<?, ? url/s] MiB/s]\u001B[A\n",
      "Dl Completed...:   0%|          | 0/1 [00:02<?, ? url/s] MiB/s]\u001B[A\n",
      "Dl Completed...:   0%|          | 0/1 [00:02<?, ? url/s] MiB/s]\u001B[A\n",
      "Dl Completed...:   0%|          | 0/1 [00:02<?, ? url/s] MiB/s]\u001B[A\n",
      "Dl Completed...:   0%|          | 0/1 [00:02<?, ? url/s] MiB/s]\u001B[A\n",
      "Dl Size...:  29%|██▉       | 229/786 [00:02<00:06, 84.04 MiB/s]\u001B[A\n",
      "Dl Completed...:   0%|          | 0/1 [00:02<?, ? url/s] MiB/s]\u001B[A\n",
      "Dl Completed...:   0%|          | 0/1 [00:02<?, ? url/s] MiB/s]\u001B[A\n",
      "Dl Completed...:   0%|          | 0/1 [00:02<?, ? url/s] MiB/s]\u001B[A\n",
      "Dl Completed...:   0%|          | 0/1 [00:02<?, ? url/s] MiB/s]\u001B[A\n",
      "Dl Completed...:   0%|          | 0/1 [00:02<?, ? url/s] MiB/s]\u001B[A\n",
      "Dl Completed...:   0%|          | 0/1 [00:02<?, ? url/s] MiB/s]\u001B[A\n",
      "Dl Completed...:   0%|          | 0/1 [00:02<?, ? url/s] MiB/s]\u001B[A\n",
      "Dl Completed...:   0%|          | 0/1 [00:02<?, ? url/s] MiB/s]\u001B[A\n",
      "Dl Completed...:   0%|          | 0/1 [00:02<?, ? url/s] MiB/s]\u001B[A\n",
      "Dl Completed...:   0%|          | 0/1 [00:02<?, ? url/s] MiB/s]\u001B[A\n",
      "Dl Completed...:   0%|          | 0/1 [00:02<?, ? url/s] MiB/s]\u001B[A\n",
      "Dl Size...:  31%|███       | 240/786 [00:02<00:06, 83.19 MiB/s]\u001B[A\n",
      "Dl Completed...:   0%|          | 0/1 [00:02<?, ? url/s] MiB/s]\u001B[A\n",
      "Dl Completed...:   0%|          | 0/1 [00:02<?, ? url/s] MiB/s]\u001B[A\n",
      "Dl Completed...:   0%|          | 0/1 [00:02<?, ? url/s] MiB/s]\u001B[A\n",
      "Dl Completed...:   0%|          | 0/1 [00:02<?, ? url/s] MiB/s]\u001B[A\n",
      "Dl Completed...:   0%|          | 0/1 [00:03<?, ? url/s] MiB/s]\u001B[A\n",
      "Dl Completed...:   0%|          | 0/1 [00:03<?, ? url/s] MiB/s]\u001B[A\n",
      "Dl Completed...:   0%|          | 0/1 [00:03<?, ? url/s] MiB/s]\u001B[A\n",
      "Dl Completed...:   0%|          | 0/1 [00:03<?, ? url/s] MiB/s]\u001B[A\n",
      "Dl Completed...:   0%|          | 0/1 [00:03<?, ? url/s] MiB/s]\u001B[A\n",
      "Dl Completed...:   0%|          | 0/1 [00:03<?, ? url/s] MiB/s]\u001B[A\n",
      "Dl Completed...:   0%|          | 0/1 [00:03<?, ? url/s] MiB/s]\u001B[A\n",
      "Dl Size...:  32%|███▏      | 251/786 [00:03<00:06, 88.91 MiB/s]\u001B[A\n",
      "Dl Completed...:   0%|          | 0/1 [00:03<?, ? url/s] MiB/s]\u001B[A\n",
      "Dl Completed...:   0%|          | 0/1 [00:03<?, ? url/s] MiB/s]\u001B[A\n",
      "Dl Completed...:   0%|          | 0/1 [00:03<?, ? url/s] MiB/s]\u001B[A\n",
      "Dl Completed...:   0%|          | 0/1 [00:03<?, ? url/s] MiB/s]\u001B[A\n",
      "Dl Completed...:   0%|          | 0/1 [00:03<?, ? url/s] MiB/s]\u001B[A\n",
      "Dl Completed...:   0%|          | 0/1 [00:03<?, ? url/s] MiB/s]\u001B[A\n",
      "Dl Completed...:   0%|          | 0/1 [00:03<?, ? url/s] MiB/s]\u001B[A\n",
      "Dl Completed...:   0%|          | 0/1 [00:03<?, ? url/s] MiB/s]\u001B[A\n",
      "Dl Completed...:   0%|          | 0/1 [00:03<?, ? url/s] MiB/s]\u001B[A\n",
      "Dl Completed...:   0%|          | 0/1 [00:03<?, ? url/s] MiB/s]\u001B[A\n",
      "Dl Size...:  33%|███▎      | 261/786 [00:03<00:05, 92.95 MiB/s]\u001B[A\n",
      "Dl Completed...:   0%|          | 0/1 [00:03<?, ? url/s] MiB/s]\u001B[A\n",
      "Dl Completed...:   0%|          | 0/1 [00:03<?, ? url/s] MiB/s]\u001B[A\n",
      "Dl Completed...:   0%|          | 0/1 [00:03<?, ? url/s] MiB/s]\u001B[A\n",
      "Dl Completed...:   0%|          | 0/1 [00:03<?, ? url/s] MiB/s]\u001B[A\n",
      "Dl Completed...:   0%|          | 0/1 [00:03<?, ? url/s] MiB/s]\u001B[A\n",
      "Dl Completed...:   0%|          | 0/1 [00:03<?, ? url/s] MiB/s]\u001B[A\n",
      "Dl Completed...:   0%|          | 0/1 [00:03<?, ? url/s] MiB/s]\u001B[A\n",
      "Dl Completed...:   0%|          | 0/1 [00:03<?, ? url/s] MiB/s]\u001B[A\n",
      "Dl Completed...:   0%|          | 0/1 [00:03<?, ? url/s] MiB/s]\u001B[A\n",
      "Dl Completed...:   0%|          | 0/1 [00:03<?, ? url/s] MiB/s]\u001B[A\n",
      "Dl Size...:  34%|███▍      | 271/786 [00:03<00:05, 90.36 MiB/s]\u001B[A\n",
      "Dl Completed...:   0%|          | 0/1 [00:03<?, ? url/s] MiB/s]\u001B[A\n",
      "Dl Completed...:   0%|          | 0/1 [00:03<?, ? url/s] MiB/s]\u001B[A\n",
      "Dl Completed...:   0%|          | 0/1 [00:03<?, ? url/s] MiB/s]\u001B[A\n",
      "Dl Completed...:   0%|          | 0/1 [00:03<?, ? url/s] MiB/s]\u001B[A\n",
      "Dl Completed...:   0%|          | 0/1 [00:03<?, ? url/s] MiB/s]\u001B[A\n",
      "Dl Completed...:   0%|          | 0/1 [00:03<?, ? url/s] MiB/s]\u001B[A\n",
      "Dl Completed...:   0%|          | 0/1 [00:03<?, ? url/s] MiB/s]\u001B[A\n",
      "Dl Completed...:   0%|          | 0/1 [00:03<?, ? url/s] MiB/s]\u001B[A\n",
      "Dl Completed...:   0%|          | 0/1 [00:03<?, ? url/s] MiB/s]\u001B[A\n",
      "Dl Size...:  36%|███▌      | 280/786 [00:03<00:06, 77.31 MiB/s]\u001B[A\n",
      "Dl Completed...:   0%|          | 0/1 [00:03<?, ? url/s] MiB/s]\u001B[A\n",
      "Dl Completed...:   0%|          | 0/1 [00:03<?, ? url/s] MiB/s]\u001B[A\n",
      "Dl Completed...:   0%|          | 0/1 [00:03<?, ? url/s] MiB/s]\u001B[A\n",
      "Dl Completed...:   0%|          | 0/1 [00:03<?, ? url/s] MiB/s]\u001B[A\n",
      "Dl Completed...:   0%|          | 0/1 [00:03<?, ? url/s] MiB/s]\u001B[A\n",
      "Dl Completed...:   0%|          | 0/1 [00:03<?, ? url/s] MiB/s]\u001B[A\n",
      "Dl Completed...:   0%|          | 0/1 [00:03<?, ? url/s] MiB/s]\u001B[A\n",
      "Dl Completed...:   0%|          | 0/1 [00:03<?, ? url/s] MiB/s]\u001B[A\n",
      "Dl Completed...:   0%|          | 0/1 [00:03<?, ? url/s] MiB/s]\u001B[A\n",
      "Dl Completed...:   0%|          | 0/1 [00:03<?, ? url/s] MiB/s]\u001B[A\n",
      "Dl Size...:  37%|███▋      | 290/786 [00:03<00:06, 79.73 MiB/s]\u001B[A\n",
      "Dl Completed...:   0%|          | 0/1 [00:03<?, ? url/s] MiB/s]\u001B[A\n",
      "Dl Completed...:   0%|          | 0/1 [00:03<?, ? url/s] MiB/s]\u001B[A\n",
      "Dl Completed...:   0%|          | 0/1 [00:03<?, ? url/s] MiB/s]\u001B[A\n",
      "Dl Completed...:   0%|          | 0/1 [00:03<?, ? url/s] MiB/s]\u001B[A\n",
      "Dl Completed...:   0%|          | 0/1 [00:03<?, ? url/s] MiB/s]\u001B[A\n",
      "Dl Completed...:   0%|          | 0/1 [00:03<?, ? url/s] MiB/s]\u001B[A\n",
      "Dl Completed...:   0%|          | 0/1 [00:03<?, ? url/s] MiB/s]\u001B[A\n",
      "Dl Completed...:   0%|          | 0/1 [00:03<?, ? url/s] MiB/s]\u001B[A\n",
      "Dl Completed...:   0%|          | 0/1 [00:03<?, ? url/s] MiB/s]\u001B[A\n",
      "Dl Size...:  38%|███▊      | 299/786 [00:03<00:05, 83.52 MiB/s]\u001B[A\n",
      "Dl Completed...:   0%|          | 0/1 [00:03<?, ? url/s] MiB/s]\u001B[A\n",
      "Dl Completed...:   0%|          | 0/1 [00:03<?, ? url/s] MiB/s]\u001B[A\n",
      "Dl Completed...:   0%|          | 0/1 [00:03<?, ? url/s] MiB/s]\u001B[A\n",
      "Dl Completed...:   0%|          | 0/1 [00:03<?, ? url/s] MiB/s]\u001B[A\n",
      "Dl Completed...:   0%|          | 0/1 [00:03<?, ? url/s] MiB/s]\u001B[A\n",
      "Dl Completed...:   0%|          | 0/1 [00:03<?, ? url/s] MiB/s]\u001B[A\n",
      "Dl Completed...:   0%|          | 0/1 [00:03<?, ? url/s] MiB/s]\u001B[A\n",
      "Dl Completed...:   0%|          | 0/1 [00:03<?, ? url/s] MiB/s]\u001B[A\n",
      "Dl Completed...:   0%|          | 0/1 [00:03<?, ? url/s] MiB/s]\u001B[A\n",
      "Dl Completed...:   0%|          | 0/1 [00:03<?, ? url/s] MiB/s]\u001B[A\n",
      "Dl Completed...:   0%|          | 0/1 [00:03<?, ? url/s] MiB/s]\u001B[A\n",
      "Dl Size...:  39%|███▉      | 310/786 [00:03<00:07, 64.88 MiB/s]\u001B[A\n",
      "Dl Completed...:   0%|          | 0/1 [00:03<?, ? url/s] MiB/s]\u001B[A\n",
      "Dl Completed...:   0%|          | 0/1 [00:03<?, ? url/s] MiB/s]\u001B[A\n",
      "Dl Completed...:   0%|          | 0/1 [00:03<?, ? url/s] MiB/s]\u001B[A\n",
      "Dl Completed...:   0%|          | 0/1 [00:03<?, ? url/s] MiB/s]\u001B[A\n",
      "Dl Completed...:   0%|          | 0/1 [00:03<?, ? url/s] MiB/s]\u001B[A\n",
      "Dl Completed...:   0%|          | 0/1 [00:03<?, ? url/s] MiB/s]\u001B[A\n",
      "Dl Completed...:   0%|          | 0/1 [00:03<?, ? url/s] MiB/s]\u001B[A\n",
      "Dl Completed...:   0%|          | 0/1 [00:03<?, ? url/s] MiB/s]\u001B[A\n",
      "Dl Completed...:   0%|          | 0/1 [00:03<?, ? url/s] MiB/s]\u001B[A\n",
      "Dl Completed...:   0%|          | 0/1 [00:03<?, ? url/s] MiB/s]\u001B[A\n",
      "Dl Size...:  41%|████      | 320/786 [00:03<00:06, 73.96 MiB/s]\u001B[A\n",
      "Dl Completed...:   0%|          | 0/1 [00:04<?, ? url/s] MiB/s]\u001B[A\n",
      "Dl Completed...:   0%|          | 0/1 [00:04<?, ? url/s] MiB/s]\u001B[A\n",
      "Dl Completed...:   0%|          | 0/1 [00:04<?, ? url/s] MiB/s]\u001B[A\n",
      "Dl Completed...:   0%|          | 0/1 [00:04<?, ? url/s] MiB/s]\u001B[A\n",
      "Dl Completed...:   0%|          | 0/1 [00:04<?, ? url/s] MiB/s]\u001B[A\n",
      "Dl Completed...:   0%|          | 0/1 [00:04<?, ? url/s] MiB/s]\u001B[A\n",
      "Dl Completed...:   0%|          | 0/1 [00:04<?, ? url/s] MiB/s]\u001B[A\n",
      "Dl Completed...:   0%|          | 0/1 [00:04<?, ? url/s] MiB/s]\u001B[A\n",
      "Dl Completed...:   0%|          | 0/1 [00:04<?, ? url/s] MiB/s]\u001B[A\n",
      "Dl Completed...:   0%|          | 0/1 [00:04<?, ? url/s] MiB/s]\u001B[A\n",
      "Dl Size...:  42%|████▏     | 330/786 [00:04<00:05, 76.83 MiB/s]\u001B[A\n",
      "Dl Completed...:   0%|          | 0/1 [00:04<?, ? url/s] MiB/s]\u001B[A\n",
      "Dl Completed...:   0%|          | 0/1 [00:04<?, ? url/s] MiB/s]\u001B[A\n",
      "Dl Completed...:   0%|          | 0/1 [00:04<?, ? url/s] MiB/s]\u001B[A\n",
      "Dl Completed...:   0%|          | 0/1 [00:04<?, ? url/s] MiB/s]\u001B[A\n",
      "Dl Completed...:   0%|          | 0/1 [00:04<?, ? url/s] MiB/s]\u001B[A\n",
      "Dl Completed...:   0%|          | 0/1 [00:04<?, ? url/s] MiB/s]\u001B[A\n",
      "Dl Completed...:   0%|          | 0/1 [00:04<?, ? url/s] MiB/s]\u001B[A\n",
      "Dl Completed...:   0%|          | 0/1 [00:04<?, ? url/s] MiB/s]\u001B[A\n",
      "Dl Completed...:   0%|          | 0/1 [00:04<?, ? url/s] MiB/s]\u001B[A\n",
      "Dl Completed...:   0%|          | 0/1 [00:04<?, ? url/s] MiB/s]\u001B[A\n",
      "Dl Completed...:   0%|          | 0/1 [00:04<?, ? url/s] MiB/s]\u001B[A\n",
      "Dl Completed...:   0%|          | 0/1 [00:04<?, ? url/s] MiB/s]\u001B[A\n",
      "Dl Size...:  44%|████▎     | 342/786 [00:04<00:05, 82.46 MiB/s]\u001B[A\n",
      "Dl Completed...:   0%|          | 0/1 [00:04<?, ? url/s] MiB/s]\u001B[A\n",
      "Dl Completed...:   0%|          | 0/1 [00:04<?, ? url/s] MiB/s]\u001B[A\n",
      "Dl Completed...:   0%|          | 0/1 [00:04<?, ? url/s] MiB/s]\u001B[A\n",
      "Dl Completed...:   0%|          | 0/1 [00:04<?, ? url/s] MiB/s]\u001B[A\n",
      "Dl Completed...:   0%|          | 0/1 [00:04<?, ? url/s] MiB/s]\u001B[A\n",
      "Dl Completed...:   0%|          | 0/1 [00:04<?, ? url/s] MiB/s]\u001B[A\n",
      "Dl Completed...:   0%|          | 0/1 [00:04<?, ? url/s] MiB/s]\u001B[A\n",
      "Dl Completed...:   0%|          | 0/1 [00:04<?, ? url/s] MiB/s]\u001B[A\n",
      "Dl Completed...:   0%|          | 0/1 [00:04<?, ? url/s] MiB/s]\u001B[A\n",
      "Dl Completed...:   0%|          | 0/1 [00:04<?, ? url/s] MiB/s]\u001B[A\n",
      "Dl Size...:  45%|████▍     | 352/786 [00:04<00:04, 87.95 MiB/s]\u001B[A\n",
      "Dl Completed...:   0%|          | 0/1 [00:04<?, ? url/s] MiB/s]\u001B[A\n",
      "Dl Completed...:   0%|          | 0/1 [00:04<?, ? url/s] MiB/s]\u001B[A\n",
      "Dl Completed...:   0%|          | 0/1 [00:04<?, ? url/s] MiB/s]\u001B[A\n",
      "Dl Completed...:   0%|          | 0/1 [00:04<?, ? url/s] MiB/s]\u001B[A\n",
      "Dl Completed...:   0%|          | 0/1 [00:04<?, ? url/s] MiB/s]\u001B[A\n",
      "Dl Completed...:   0%|          | 0/1 [00:04<?, ? url/s] MiB/s]\u001B[A\n",
      "Dl Completed...:   0%|          | 0/1 [00:04<?, ? url/s] MiB/s]\u001B[A\n",
      "Dl Completed...:   0%|          | 0/1 [00:04<?, ? url/s] MiB/s]\u001B[A\n",
      "Dl Completed...:   0%|          | 0/1 [00:04<?, ? url/s] MiB/s]\u001B[A\n",
      "Dl Completed...:   0%|          | 0/1 [00:04<?, ? url/s] MiB/s]\u001B[A\n",
      "Dl Completed...:   0%|          | 0/1 [00:04<?, ? url/s] MiB/s]\u001B[A\n",
      "Dl Completed...:   0%|          | 0/1 [00:04<?, ? url/s] MiB/s]\u001B[A\n",
      "Dl Size...:  46%|████▋     | 364/786 [00:04<00:04, 89.26 MiB/s]\u001B[A\n",
      "Dl Completed...:   0%|          | 0/1 [00:04<?, ? url/s] MiB/s]\u001B[A\n",
      "Dl Completed...:   0%|          | 0/1 [00:04<?, ? url/s] MiB/s]\u001B[A\n",
      "Dl Completed...:   0%|          | 0/1 [00:04<?, ? url/s] MiB/s]\u001B[A\n",
      "Dl Completed...:   0%|          | 0/1 [00:04<?, ? url/s] MiB/s]\u001B[A\n",
      "Dl Completed...:   0%|          | 0/1 [00:04<?, ? url/s] MiB/s]\u001B[A\n",
      "Dl Completed...:   0%|          | 0/1 [00:04<?, ? url/s] MiB/s]\u001B[A\n",
      "Dl Completed...:   0%|          | 0/1 [00:04<?, ? url/s] MiB/s]\u001B[A\n",
      "Dl Completed...:   0%|          | 0/1 [00:04<?, ? url/s] MiB/s]\u001B[A\n",
      "Dl Completed...:   0%|          | 0/1 [00:04<?, ? url/s] MiB/s]\u001B[A\n",
      "Dl Completed...:   0%|          | 0/1 [00:04<?, ? url/s] MiB/s]\u001B[A\n",
      "Dl Completed...:   0%|          | 0/1 [00:04<?, ? url/s] MiB/s]\u001B[A\n",
      "Dl Size...:  48%|████▊     | 375/786 [00:04<00:04, 93.95 MiB/s]\u001B[A\n",
      "Dl Completed...:   0%|          | 0/1 [00:04<?, ? url/s] MiB/s]\u001B[A\n",
      "Dl Completed...:   0%|          | 0/1 [00:04<?, ? url/s] MiB/s]\u001B[A\n",
      "Dl Completed...:   0%|          | 0/1 [00:04<?, ? url/s] MiB/s]\u001B[A\n",
      "Dl Completed...:   0%|          | 0/1 [00:04<?, ? url/s] MiB/s]\u001B[A\n",
      "Dl Completed...:   0%|          | 0/1 [00:04<?, ? url/s] MiB/s]\u001B[A\n",
      "Dl Completed...:   0%|          | 0/1 [00:04<?, ? url/s] MiB/s]\u001B[A\n",
      "Dl Completed...:   0%|          | 0/1 [00:04<?, ? url/s] MiB/s]\u001B[A\n",
      "Dl Completed...:   0%|          | 0/1 [00:04<?, ? url/s] MiB/s]\u001B[A\n",
      "Dl Completed...:   0%|          | 0/1 [00:04<?, ? url/s] MiB/s]\u001B[A\n",
      "Dl Completed...:   0%|          | 0/1 [00:04<?, ? url/s] MiB/s]\u001B[A\n",
      "Dl Completed...:   0%|          | 0/1 [00:04<?, ? url/s] MiB/s]\u001B[A\n",
      "Dl Completed...:   0%|          | 0/1 [00:04<?, ? url/s] MiB/s]\u001B[A\n",
      "Dl Size...:  49%|████▉     | 387/786 [00:04<00:04, 96.00 MiB/s]\u001B[A\n",
      "Dl Completed...:   0%|          | 0/1 [00:04<?, ? url/s]8 MiB/s]\u001B[A\n",
      "Dl Completed...:   0%|          | 0/1 [00:04<?, ? url/s]8 MiB/s]\u001B[A\n",
      "Dl Completed...:   0%|          | 0/1 [00:04<?, ? url/s]8 MiB/s]\u001B[A\n",
      "Dl Completed...:   0%|          | 0/1 [00:04<?, ? url/s]8 MiB/s]\u001B[A\n",
      "Dl Completed...:   0%|          | 0/1 [00:04<?, ? url/s]8 MiB/s]\u001B[A\n",
      "Dl Completed...:   0%|          | 0/1 [00:04<?, ? url/s]8 MiB/s]\u001B[A\n",
      "Dl Completed...:   0%|          | 0/1 [00:04<?, ? url/s]8 MiB/s]\u001B[A\n",
      "Dl Completed...:   0%|          | 0/1 [00:04<?, ? url/s]8 MiB/s]\u001B[A\n",
      "Dl Completed...:   0%|          | 0/1 [00:04<?, ? url/s]8 MiB/s]\u001B[A\n",
      "Dl Completed...:   0%|          | 0/1 [00:04<?, ? url/s]8 MiB/s]\u001B[A\n",
      "Dl Completed...:   0%|          | 0/1 [00:04<?, ? url/s]8 MiB/s]\u001B[A\n",
      "Dl Size...:  51%|█████     | 398/786 [00:04<00:03, 100.58 MiB/s]\u001B[A\n",
      "Dl Completed...:   0%|          | 0/1 [00:04<?, ? url/s]5 MiB/s]\u001B[A\n",
      "Dl Completed...:   0%|          | 0/1 [00:04<?, ? url/s]5 MiB/s]\u001B[A\n",
      "Dl Completed...:   0%|          | 0/1 [00:04<?, ? url/s]5 MiB/s]\u001B[A\n",
      "Dl Completed...:   0%|          | 0/1 [00:04<?, ? url/s]5 MiB/s]\u001B[A\n",
      "Dl Completed...:   0%|          | 0/1 [00:04<?, ? url/s]5 MiB/s]\u001B[A\n",
      "Dl Completed...:   0%|          | 0/1 [00:04<?, ? url/s]5 MiB/s]\u001B[A\n",
      "Dl Completed...:   0%|          | 0/1 [00:04<?, ? url/s]5 MiB/s]\u001B[A\n",
      "Dl Completed...:   0%|          | 0/1 [00:04<?, ? url/s]5 MiB/s]\u001B[A\n",
      "Dl Completed...:   0%|          | 0/1 [00:04<?, ? url/s]5 MiB/s]\u001B[A\n",
      "Dl Completed...:   0%|          | 0/1 [00:04<?, ? url/s]5 MiB/s]\u001B[A\n",
      "Dl Completed...:   0%|          | 0/1 [00:04<?, ? url/s]5 MiB/s]\u001B[A\n",
      "Dl Size...:  52%|█████▏    | 409/786 [00:04<00:03, 101.55 MiB/s]\u001B[A\n",
      "Dl Completed...:   0%|          | 0/1 [00:04<?, ? url/s] MiB/s] \u001B[A\n",
      "Dl Completed...:   0%|          | 0/1 [00:04<?, ? url/s] MiB/s]\u001B[A\n",
      "Dl Completed...:   0%|          | 0/1 [00:04<?, ? url/s] MiB/s]\u001B[A\n",
      "Dl Completed...:   0%|          | 0/1 [00:04<?, ? url/s] MiB/s]\u001B[A\n",
      "Dl Completed...:   0%|          | 0/1 [00:04<?, ? url/s] MiB/s]\u001B[A\n",
      "Dl Completed...:   0%|          | 0/1 [00:04<?, ? url/s] MiB/s]\u001B[A\n",
      "Dl Completed...:   0%|          | 0/1 [00:04<?, ? url/s] MiB/s]\u001B[A\n",
      "Dl Completed...:   0%|          | 0/1 [00:04<?, ? url/s] MiB/s]\u001B[A\n",
      "Dl Completed...:   0%|          | 0/1 [00:04<?, ? url/s] MiB/s]\u001B[A\n",
      "Dl Completed...:   0%|          | 0/1 [00:04<?, ? url/s] MiB/s]\u001B[A\n",
      "Dl Completed...:   0%|          | 0/1 [00:04<?, ? url/s] MiB/s]\u001B[A\n",
      "Dl Size...:  53%|█████▎    | 420/786 [00:04<00:03, 99.08 MiB/s]\u001B[A\n",
      "Dl Completed...:   0%|          | 0/1 [00:05<?, ? url/s]5 MiB/s]\u001B[A\n",
      "Dl Completed...:   0%|          | 0/1 [00:05<?, ? url/s]5 MiB/s]\u001B[A\n",
      "Dl Completed...:   0%|          | 0/1 [00:05<?, ? url/s]5 MiB/s]\u001B[A\n",
      "Dl Completed...:   0%|          | 0/1 [00:05<?, ? url/s]5 MiB/s]\u001B[A\n",
      "Dl Completed...:   0%|          | 0/1 [00:05<?, ? url/s]5 MiB/s]\u001B[A\n",
      "Dl Completed...:   0%|          | 0/1 [00:05<?, ? url/s]5 MiB/s]\u001B[A\n",
      "Dl Completed...:   0%|          | 0/1 [00:05<?, ? url/s]5 MiB/s]\u001B[A\n",
      "Dl Completed...:   0%|          | 0/1 [00:05<?, ? url/s]5 MiB/s]\u001B[A\n",
      "Dl Completed...:   0%|          | 0/1 [00:05<?, ? url/s]5 MiB/s]\u001B[A\n",
      "Dl Completed...:   0%|          | 0/1 [00:05<?, ? url/s]5 MiB/s]\u001B[A\n",
      "Dl Completed...:   0%|          | 0/1 [00:05<?, ? url/s]5 MiB/s]\u001B[A\n",
      "Dl Size...:  55%|█████▍    | 431/786 [00:05<00:03, 101.25 MiB/s]\u001B[A\n",
      "Dl Completed...:   0%|          | 0/1 [00:05<?, ? url/s]9 MiB/s]\u001B[A\n",
      "Dl Completed...:   0%|          | 0/1 [00:05<?, ? url/s]9 MiB/s]\u001B[A\n",
      "Dl Completed...:   0%|          | 0/1 [00:05<?, ? url/s]9 MiB/s]\u001B[A\n",
      "Dl Completed...:   0%|          | 0/1 [00:05<?, ? url/s]9 MiB/s]\u001B[A\n",
      "Dl Completed...:   0%|          | 0/1 [00:05<?, ? url/s]9 MiB/s]\u001B[A\n",
      "Dl Completed...:   0%|          | 0/1 [00:05<?, ? url/s]9 MiB/s]\u001B[A\n",
      "Dl Completed...:   0%|          | 0/1 [00:05<?, ? url/s]9 MiB/s]\u001B[A\n",
      "Dl Completed...:   0%|          | 0/1 [00:05<?, ? url/s]9 MiB/s]\u001B[A\n",
      "Dl Completed...:   0%|          | 0/1 [00:05<?, ? url/s]9 MiB/s]\u001B[A\n",
      "Dl Completed...:   0%|          | 0/1 [00:05<?, ? url/s]9 MiB/s]\u001B[A\n",
      "Dl Completed...:   0%|          | 0/1 [00:05<?, ? url/s]9 MiB/s]\u001B[A\n",
      "Dl Size...:  56%|█████▌    | 442/786 [00:05<00:03, 101.19 MiB/s]\u001B[A\n",
      "Dl Completed...:   0%|          | 0/1 [00:05<?, ? url/s] MiB/s] \u001B[A\n",
      "Dl Completed...:   0%|          | 0/1 [00:05<?, ? url/s] MiB/s]\u001B[A\n",
      "Dl Completed...:   0%|          | 0/1 [00:05<?, ? url/s] MiB/s]\u001B[A\n",
      "Dl Completed...:   0%|          | 0/1 [00:05<?, ? url/s] MiB/s]\u001B[A\n",
      "Dl Completed...:   0%|          | 0/1 [00:05<?, ? url/s] MiB/s]\u001B[A\n",
      "Dl Completed...:   0%|          | 0/1 [00:05<?, ? url/s] MiB/s]\u001B[A\n",
      "Dl Completed...:   0%|          | 0/1 [00:05<?, ? url/s] MiB/s]\u001B[A\n",
      "Dl Completed...:   0%|          | 0/1 [00:05<?, ? url/s] MiB/s]\u001B[A\n",
      "Dl Completed...:   0%|          | 0/1 [00:05<?, ? url/s] MiB/s]\u001B[A\n",
      "Dl Completed...:   0%|          | 0/1 [00:05<?, ? url/s] MiB/s]\u001B[A\n",
      "Dl Size...:  58%|█████▊    | 452/786 [00:05<00:03, 89.59 MiB/s]\u001B[A\n",
      "Dl Completed...:   0%|          | 0/1 [00:05<?, ? url/s] MiB/s]\u001B[A\n",
      "Dl Completed...:   0%|          | 0/1 [00:05<?, ? url/s] MiB/s]\u001B[A\n",
      "Dl Completed...:   0%|          | 0/1 [00:05<?, ? url/s] MiB/s]\u001B[A\n",
      "Dl Completed...:   0%|          | 0/1 [00:05<?, ? url/s] MiB/s]\u001B[A\n",
      "Dl Completed...:   0%|          | 0/1 [00:05<?, ? url/s] MiB/s]\u001B[A\n",
      "Dl Completed...:   0%|          | 0/1 [00:05<?, ? url/s] MiB/s]\u001B[A\n",
      "Dl Completed...:   0%|          | 0/1 [00:05<?, ? url/s] MiB/s]\u001B[A\n",
      "Dl Completed...:   0%|          | 0/1 [00:05<?, ? url/s] MiB/s]\u001B[A\n",
      "Dl Completed...:   0%|          | 0/1 [00:05<?, ? url/s] MiB/s]\u001B[A\n",
      "Dl Completed...:   0%|          | 0/1 [00:05<?, ? url/s] MiB/s]\u001B[A\n",
      "Dl Size...:  59%|█████▉    | 462/786 [00:05<00:03, 90.06 MiB/s]\u001B[A\n",
      "Dl Completed...:   0%|          | 0/1 [00:05<?, ? url/s] MiB/s]\u001B[A\n",
      "Dl Completed...:   0%|          | 0/1 [00:05<?, ? url/s] MiB/s]\u001B[A\n",
      "Dl Completed...:   0%|          | 0/1 [00:05<?, ? url/s] MiB/s]\u001B[A\n",
      "Dl Completed...:   0%|          | 0/1 [00:05<?, ? url/s] MiB/s]\u001B[A\n",
      "Dl Completed...:   0%|          | 0/1 [00:05<?, ? url/s] MiB/s]\u001B[A\n",
      "Dl Completed...:   0%|          | 0/1 [00:05<?, ? url/s] MiB/s]\u001B[A\n",
      "Dl Completed...:   0%|          | 0/1 [00:05<?, ? url/s] MiB/s]\u001B[A\n",
      "Dl Completed...:   0%|          | 0/1 [00:05<?, ? url/s] MiB/s]\u001B[A\n",
      "Dl Completed...:   0%|          | 0/1 [00:05<?, ? url/s] MiB/s]\u001B[A\n",
      "Dl Completed...:   0%|          | 0/1 [00:05<?, ? url/s] MiB/s]\u001B[A\n",
      "Dl Completed...:   0%|          | 0/1 [00:05<?, ? url/s] MiB/s]\u001B[A\n",
      "Dl Size...:  60%|██████    | 473/786 [00:05<00:03, 90.33 MiB/s]\u001B[A\n",
      "Dl Completed...:   0%|          | 0/1 [00:05<?, ? url/s] MiB/s]\u001B[A\n",
      "Dl Completed...:   0%|          | 0/1 [00:05<?, ? url/s] MiB/s]\u001B[A\n",
      "Dl Completed...:   0%|          | 0/1 [00:05<?, ? url/s] MiB/s]\u001B[A\n",
      "Dl Completed...:   0%|          | 0/1 [00:05<?, ? url/s] MiB/s]\u001B[A\n",
      "Dl Completed...:   0%|          | 0/1 [00:05<?, ? url/s] MiB/s]\u001B[A\n",
      "Dl Completed...:   0%|          | 0/1 [00:05<?, ? url/s] MiB/s]\u001B[A\n",
      "Dl Completed...:   0%|          | 0/1 [00:05<?, ? url/s] MiB/s]\u001B[A\n",
      "Dl Completed...:   0%|          | 0/1 [00:05<?, ? url/s] MiB/s]\u001B[A\n",
      "Dl Completed...:   0%|          | 0/1 [00:05<?, ? url/s] MiB/s]\u001B[A\n",
      "Dl Completed...:   0%|          | 0/1 [00:05<?, ? url/s] MiB/s]\u001B[A\n",
      "Dl Completed...:   0%|          | 0/1 [00:05<?, ? url/s] MiB/s]\u001B[A\n",
      "Dl Size...:  62%|██████▏   | 484/786 [00:05<00:03, 95.48 MiB/s]\u001B[A\n",
      "Dl Completed...:   0%|          | 0/1 [00:05<?, ? url/s] MiB/s]\u001B[A\n",
      "Dl Completed...:   0%|          | 0/1 [00:05<?, ? url/s] MiB/s]\u001B[A\n",
      "Dl Completed...:   0%|          | 0/1 [00:05<?, ? url/s] MiB/s]\u001B[A\n",
      "Dl Completed...:   0%|          | 0/1 [00:05<?, ? url/s] MiB/s]\u001B[A\n",
      "Dl Completed...:   0%|          | 0/1 [00:05<?, ? url/s] MiB/s]\u001B[A\n",
      "Dl Completed...:   0%|          | 0/1 [00:05<?, ? url/s] MiB/s]\u001B[A\n",
      "Dl Completed...:   0%|          | 0/1 [00:05<?, ? url/s] MiB/s]\u001B[A\n",
      "Dl Completed...:   0%|          | 0/1 [00:05<?, ? url/s] MiB/s]\u001B[A\n",
      "Dl Completed...:   0%|          | 0/1 [00:05<?, ? url/s] MiB/s]\u001B[A\n",
      "Dl Completed...:   0%|          | 0/1 [00:05<?, ? url/s] MiB/s]\u001B[A\n",
      "Dl Completed...:   0%|          | 0/1 [00:05<?, ? url/s] MiB/s]\u001B[A\n",
      "Dl Size...:  63%|██████▎   | 495/786 [00:05<00:02, 97.72 MiB/s]\u001B[A\n",
      "Dl Completed...:   0%|          | 0/1 [00:05<?, ? url/s] MiB/s]\u001B[A\n",
      "Dl Completed...:   0%|          | 0/1 [00:05<?, ? url/s] MiB/s]\u001B[A\n",
      "Dl Completed...:   0%|          | 0/1 [00:05<?, ? url/s] MiB/s]\u001B[A\n",
      "Dl Completed...:   0%|          | 0/1 [00:05<?, ? url/s] MiB/s]\u001B[A\n",
      "Dl Completed...:   0%|          | 0/1 [00:05<?, ? url/s] MiB/s]\u001B[A\n",
      "Dl Completed...:   0%|          | 0/1 [00:05<?, ? url/s] MiB/s]\u001B[A\n",
      "Dl Completed...:   0%|          | 0/1 [00:05<?, ? url/s] MiB/s]\u001B[A\n",
      "Dl Completed...:   0%|          | 0/1 [00:05<?, ? url/s] MiB/s]\u001B[A\n",
      "Dl Completed...:   0%|          | 0/1 [00:05<?, ? url/s] MiB/s]\u001B[A\n",
      "Dl Completed...:   0%|          | 0/1 [00:05<?, ? url/s] MiB/s]\u001B[A\n",
      "Dl Completed...:   0%|          | 0/1 [00:05<?, ? url/s] MiB/s]\u001B[A\n",
      "Dl Size...:  64%|██████▍   | 506/786 [00:05<00:02, 98.69 MiB/s]\u001B[A\n",
      "Dl Completed...:   0%|          | 0/1 [00:05<?, ? url/s] MiB/s]\u001B[A\n",
      "Dl Completed...:   0%|          | 0/1 [00:05<?, ? url/s] MiB/s]\u001B[A\n",
      "Dl Completed...:   0%|          | 0/1 [00:05<?, ? url/s] MiB/s]\u001B[A\n",
      "Dl Completed...:   0%|          | 0/1 [00:05<?, ? url/s] MiB/s]\u001B[A\n",
      "Dl Completed...:   0%|          | 0/1 [00:05<?, ? url/s] MiB/s]\u001B[A\n",
      "Dl Completed...:   0%|          | 0/1 [00:05<?, ? url/s] MiB/s]\u001B[A\n",
      "Dl Completed...:   0%|          | 0/1 [00:05<?, ? url/s] MiB/s]\u001B[A\n",
      "Dl Completed...:   0%|          | 0/1 [00:05<?, ? url/s] MiB/s]\u001B[A\n",
      "Dl Completed...:   0%|          | 0/1 [00:05<?, ? url/s] MiB/s]\u001B[A\n",
      "Dl Completed...:   0%|          | 0/1 [00:05<?, ? url/s] MiB/s]\u001B[A\n",
      "Dl Completed...:   0%|          | 0/1 [00:05<?, ? url/s] MiB/s]\u001B[A\n",
      "Dl Completed...:   0%|          | 0/1 [00:06<?, ? url/s] MiB/s]\u001B[A\n",
      "Dl Size...:  66%|██████▌   | 518/786 [00:06<00:02, 99.90 MiB/s]\u001B[A\n",
      "Dl Completed...:   0%|          | 0/1 [00:06<?, ? url/s]6 MiB/s]\u001B[A\n",
      "Dl Completed...:   0%|          | 0/1 [00:06<?, ? url/s]6 MiB/s]\u001B[A\n",
      "Dl Completed...:   0%|          | 0/1 [00:06<?, ? url/s]6 MiB/s]\u001B[A\n",
      "Dl Completed...:   0%|          | 0/1 [00:06<?, ? url/s]6 MiB/s]\u001B[A\n",
      "Dl Completed...:   0%|          | 0/1 [00:06<?, ? url/s]6 MiB/s]\u001B[A\n",
      "Dl Completed...:   0%|          | 0/1 [00:06<?, ? url/s]6 MiB/s]\u001B[A\n",
      "Dl Completed...:   0%|          | 0/1 [00:06<?, ? url/s]6 MiB/s]\u001B[A\n",
      "Dl Completed...:   0%|          | 0/1 [00:06<?, ? url/s]6 MiB/s]\u001B[A\n",
      "Dl Completed...:   0%|          | 0/1 [00:06<?, ? url/s]6 MiB/s]\u001B[A\n",
      "Dl Completed...:   0%|          | 0/1 [00:06<?, ? url/s]6 MiB/s]\u001B[A\n",
      "Dl Completed...:   0%|          | 0/1 [00:06<?, ? url/s]6 MiB/s]\u001B[A\n",
      "Dl Completed...:   0%|          | 0/1 [00:06<?, ? url/s]6 MiB/s]\u001B[A\n",
      "Dl Size...:  67%|██████▋   | 530/786 [00:06<00:02, 103.26 MiB/s]\u001B[A\n",
      "Dl Completed...:   0%|          | 0/1 [00:06<?, ? url/s]6 MiB/s]\u001B[A\n",
      "Dl Completed...:   0%|          | 0/1 [00:06<?, ? url/s]6 MiB/s]\u001B[A\n",
      "Dl Completed...:   0%|          | 0/1 [00:06<?, ? url/s]6 MiB/s]\u001B[A\n",
      "Dl Completed...:   0%|          | 0/1 [00:06<?, ? url/s]6 MiB/s]\u001B[A\n",
      "Dl Completed...:   0%|          | 0/1 [00:06<?, ? url/s]6 MiB/s]\u001B[A\n",
      "Dl Completed...:   0%|          | 0/1 [00:06<?, ? url/s]6 MiB/s]\u001B[A\n",
      "Dl Completed...:   0%|          | 0/1 [00:06<?, ? url/s]6 MiB/s]\u001B[A\n",
      "Dl Completed...:   0%|          | 0/1 [00:06<?, ? url/s]6 MiB/s]\u001B[A\n",
      "Dl Completed...:   0%|          | 0/1 [00:06<?, ? url/s]6 MiB/s]\u001B[A\n",
      "Dl Completed...:   0%|          | 0/1 [00:06<?, ? url/s]6 MiB/s]\u001B[A\n",
      "Dl Completed...:   0%|          | 0/1 [00:06<?, ? url/s]6 MiB/s]\u001B[A\n",
      "Dl Size...:  69%|██████▉   | 541/786 [00:06<00:02, 105.66 MiB/s]\u001B[A\n",
      "Dl Completed...:   0%|          | 0/1 [00:06<?, ? url/s]7 MiB/s]\u001B[A\n",
      "Dl Completed...:   0%|          | 0/1 [00:06<?, ? url/s]7 MiB/s]\u001B[A\n",
      "Dl Completed...:   0%|          | 0/1 [00:06<?, ? url/s]7 MiB/s]\u001B[A\n",
      "Dl Completed...:   0%|          | 0/1 [00:06<?, ? url/s]7 MiB/s]\u001B[A\n",
      "Dl Completed...:   0%|          | 0/1 [00:06<?, ? url/s]7 MiB/s]\u001B[A\n",
      "Dl Completed...:   0%|          | 0/1 [00:06<?, ? url/s]7 MiB/s]\u001B[A\n",
      "Dl Completed...:   0%|          | 0/1 [00:06<?, ? url/s]7 MiB/s]\u001B[A\n",
      "Dl Completed...:   0%|          | 0/1 [00:06<?, ? url/s]7 MiB/s]\u001B[A\n",
      "Dl Completed...:   0%|          | 0/1 [00:06<?, ? url/s]7 MiB/s]\u001B[A\n",
      "Dl Completed...:   0%|          | 0/1 [00:06<?, ? url/s]7 MiB/s]\u001B[A\n",
      "Dl Completed...:   0%|          | 0/1 [00:06<?, ? url/s]7 MiB/s]\u001B[A\n",
      "Dl Size...:  70%|███████   | 552/786 [00:06<00:02, 101.37 MiB/s]\u001B[A\n",
      "Dl Completed...:   0%|          | 0/1 [00:06<?, ? url/s]5 MiB/s]\u001B[A\n",
      "Dl Completed...:   0%|          | 0/1 [00:06<?, ? url/s]5 MiB/s]\u001B[A\n",
      "Dl Completed...:   0%|          | 0/1 [00:06<?, ? url/s]5 MiB/s]\u001B[A\n",
      "Dl Completed...:   0%|          | 0/1 [00:06<?, ? url/s]5 MiB/s]\u001B[A\n",
      "Dl Completed...:   0%|          | 0/1 [00:06<?, ? url/s]5 MiB/s]\u001B[A\n",
      "Dl Completed...:   0%|          | 0/1 [00:06<?, ? url/s]5 MiB/s]\u001B[A\n",
      "Dl Completed...:   0%|          | 0/1 [00:06<?, ? url/s]5 MiB/s]\u001B[A\n",
      "Dl Completed...:   0%|          | 0/1 [00:06<?, ? url/s]5 MiB/s]\u001B[A\n",
      "Dl Completed...:   0%|          | 0/1 [00:06<?, ? url/s]5 MiB/s]\u001B[A\n",
      "Dl Completed...:   0%|          | 0/1 [00:06<?, ? url/s]5 MiB/s]\u001B[A\n",
      "Dl Completed...:   0%|          | 0/1 [00:06<?, ? url/s]5 MiB/s]\u001B[A\n",
      "Dl Completed...:   0%|          | 0/1 [00:06<?, ? url/s]5 MiB/s]\u001B[A\n",
      "Dl Size...:  72%|███████▏  | 564/786 [00:06<00:02, 100.15 MiB/s]\u001B[A\n",
      "Dl Completed...:   0%|          | 0/1 [00:06<?, ? url/s]3 MiB/s]\u001B[A\n",
      "Dl Completed...:   0%|          | 0/1 [00:06<?, ? url/s]3 MiB/s]\u001B[A\n",
      "Dl Completed...:   0%|          | 0/1 [00:06<?, ? url/s]3 MiB/s]\u001B[A\n",
      "Dl Completed...:   0%|          | 0/1 [00:06<?, ? url/s]3 MiB/s]\u001B[A\n",
      "Dl Completed...:   0%|          | 0/1 [00:06<?, ? url/s]3 MiB/s]\u001B[A\n",
      "Dl Completed...:   0%|          | 0/1 [00:06<?, ? url/s]3 MiB/s]\u001B[A\n",
      "Dl Completed...:   0%|          | 0/1 [00:06<?, ? url/s]3 MiB/s]\u001B[A\n",
      "Dl Completed...:   0%|          | 0/1 [00:06<?, ? url/s]3 MiB/s]\u001B[A\n",
      "Dl Completed...:   0%|          | 0/1 [00:06<?, ? url/s]3 MiB/s]\u001B[A\n",
      "Dl Completed...:   0%|          | 0/1 [00:06<?, ? url/s]3 MiB/s]\u001B[A\n",
      "Dl Completed...:   0%|          | 0/1 [00:06<?, ? url/s]3 MiB/s]\u001B[A\n",
      "Dl Completed...:   0%|          | 0/1 [00:06<?, ? url/s]3 MiB/s]\u001B[A\n",
      "Dl Size...:  73%|███████▎  | 576/786 [00:06<00:02, 103.43 MiB/s]\u001B[A\n",
      "Dl Completed...:   0%|          | 0/1 [00:06<?, ? url/s]9 MiB/s]\u001B[A\n",
      "Dl Completed...:   0%|          | 0/1 [00:06<?, ? url/s]9 MiB/s]\u001B[A\n",
      "Dl Completed...:   0%|          | 0/1 [00:06<?, ? url/s]9 MiB/s]\u001B[A\n",
      "Dl Completed...:   0%|          | 0/1 [00:06<?, ? url/s]9 MiB/s]\u001B[A\n",
      "Dl Completed...:   0%|          | 0/1 [00:06<?, ? url/s]9 MiB/s]\u001B[A\n",
      "Dl Completed...:   0%|          | 0/1 [00:06<?, ? url/s]9 MiB/s]\u001B[A\n",
      "Dl Completed...:   0%|          | 0/1 [00:06<?, ? url/s]9 MiB/s]\u001B[A\n",
      "Dl Completed...:   0%|          | 0/1 [00:06<?, ? url/s]9 MiB/s]\u001B[A\n",
      "Dl Completed...:   0%|          | 0/1 [00:06<?, ? url/s]9 MiB/s]\u001B[A\n",
      "Dl Completed...:   0%|          | 0/1 [00:06<?, ? url/s]9 MiB/s]\u001B[A\n",
      "Dl Completed...:   0%|          | 0/1 [00:06<?, ? url/s]9 MiB/s]\u001B[A\n",
      "Dl Completed...:   0%|          | 0/1 [00:06<?, ? url/s]9 MiB/s]\u001B[A\n",
      "Dl Size...:  75%|███████▍  | 588/786 [00:06<00:01, 105.79 MiB/s]\u001B[A\n",
      "Dl Completed...:   0%|          | 0/1 [00:06<?, ? url/s]4 MiB/s]\u001B[A\n",
      "Dl Completed...:   0%|          | 0/1 [00:06<?, ? url/s]4 MiB/s]\u001B[A\n",
      "Dl Completed...:   0%|          | 0/1 [00:06<?, ? url/s]4 MiB/s]\u001B[A\n",
      "Dl Completed...:   0%|          | 0/1 [00:06<?, ? url/s]4 MiB/s]\u001B[A\n",
      "Dl Completed...:   0%|          | 0/1 [00:06<?, ? url/s]4 MiB/s]\u001B[A\n",
      "Dl Completed...:   0%|          | 0/1 [00:06<?, ? url/s]4 MiB/s]\u001B[A\n",
      "Dl Completed...:   0%|          | 0/1 [00:06<?, ? url/s]4 MiB/s]\u001B[A\n",
      "Dl Completed...:   0%|          | 0/1 [00:06<?, ? url/s]4 MiB/s]\u001B[A\n",
      "Dl Completed...:   0%|          | 0/1 [00:06<?, ? url/s]4 MiB/s]\u001B[A\n",
      "Dl Completed...:   0%|          | 0/1 [00:06<?, ? url/s]4 MiB/s]\u001B[A\n",
      "Dl Completed...:   0%|          | 0/1 [00:06<?, ? url/s]4 MiB/s]\u001B[A\n",
      "Dl Size...:  76%|███████▌  | 599/786 [00:06<00:01, 107.44 MiB/s]\u001B[A\n",
      "Dl Completed...:   0%|          | 0/1 [00:06<?, ? url/s]9 MiB/s]\u001B[A\n",
      "Dl Completed...:   0%|          | 0/1 [00:06<?, ? url/s]9 MiB/s]\u001B[A\n",
      "Dl Completed...:   0%|          | 0/1 [00:06<?, ? url/s]9 MiB/s]\u001B[A\n",
      "Dl Completed...:   0%|          | 0/1 [00:06<?, ? url/s]9 MiB/s]\u001B[A\n",
      "Dl Completed...:   0%|          | 0/1 [00:06<?, ? url/s]9 MiB/s]\u001B[A\n",
      "Dl Completed...:   0%|          | 0/1 [00:06<?, ? url/s]9 MiB/s]\u001B[A\n",
      "Dl Completed...:   0%|          | 0/1 [00:06<?, ? url/s]9 MiB/s]\u001B[A\n",
      "Dl Completed...:   0%|          | 0/1 [00:06<?, ? url/s]9 MiB/s]\u001B[A\n",
      "Dl Completed...:   0%|          | 0/1 [00:06<?, ? url/s]9 MiB/s]\u001B[A\n",
      "Dl Completed...:   0%|          | 0/1 [00:06<?, ? url/s]9 MiB/s]\u001B[A\n",
      "Dl Completed...:   0%|          | 0/1 [00:06<?, ? url/s]9 MiB/s]\u001B[A\n",
      "Dl Size...:  78%|███████▊  | 610/786 [00:06<00:01, 107.79 MiB/s]\u001B[A\n",
      "Dl Completed...:   0%|          | 0/1 [00:06<?, ? url/s] MiB/s] \u001B[A\n",
      "Dl Completed...:   0%|          | 0/1 [00:06<?, ? url/s] MiB/s]\u001B[A\n",
      "Dl Completed...:   0%|          | 0/1 [00:06<?, ? url/s] MiB/s]\u001B[A\n",
      "Dl Completed...:   0%|          | 0/1 [00:06<?, ? url/s] MiB/s]\u001B[A\n",
      "Dl Completed...:   0%|          | 0/1 [00:06<?, ? url/s] MiB/s]\u001B[A\n",
      "Dl Completed...:   0%|          | 0/1 [00:06<?, ? url/s] MiB/s]\u001B[A\n",
      "Dl Completed...:   0%|          | 0/1 [00:06<?, ? url/s] MiB/s]\u001B[A\n",
      "Dl Completed...:   0%|          | 0/1 [00:07<?, ? url/s] MiB/s]\u001B[A\n",
      "Dl Completed...:   0%|          | 0/1 [00:07<?, ? url/s] MiB/s]\u001B[A\n",
      "Dl Completed...:   0%|          | 0/1 [00:07<?, ? url/s] MiB/s]\u001B[A\n",
      "Dl Size...:  79%|███████▉  | 620/786 [00:07<00:01, 94.34 MiB/s]\u001B[A\n",
      "Dl Completed...:   0%|          | 0/1 [00:07<?, ? url/s] MiB/s]\u001B[A\n",
      "Dl Completed...:   0%|          | 0/1 [00:07<?, ? url/s] MiB/s]\u001B[A\n",
      "Dl Completed...:   0%|          | 0/1 [00:07<?, ? url/s] MiB/s]\u001B[A\n",
      "Dl Completed...:   0%|          | 0/1 [00:07<?, ? url/s] MiB/s]\u001B[A\n",
      "Dl Completed...:   0%|          | 0/1 [00:07<?, ? url/s] MiB/s]\u001B[A\n",
      "Dl Completed...:   0%|          | 0/1 [00:07<?, ? url/s] MiB/s]\u001B[A\n",
      "Dl Completed...:   0%|          | 0/1 [00:07<?, ? url/s] MiB/s]\u001B[A\n",
      "Dl Completed...:   0%|          | 0/1 [00:07<?, ? url/s] MiB/s]\u001B[A\n",
      "Dl Completed...:   0%|          | 0/1 [00:07<?, ? url/s] MiB/s]\u001B[A\n",
      "Dl Completed...:   0%|          | 0/1 [00:07<?, ? url/s] MiB/s]\u001B[A\n",
      "Dl Completed...:   0%|          | 0/1 [00:07<?, ? url/s] MiB/s]\u001B[A\n",
      "Dl Size...:  80%|████████  | 631/786 [00:07<00:01, 95.27 MiB/s]\u001B[A\n",
      "Dl Completed...:   0%|          | 0/1 [00:07<?, ? url/s] MiB/s]\u001B[A\n",
      "Dl Completed...:   0%|          | 0/1 [00:07<?, ? url/s] MiB/s]\u001B[A\n",
      "Dl Completed...:   0%|          | 0/1 [00:07<?, ? url/s] MiB/s]\u001B[A\n",
      "Dl Completed...:   0%|          | 0/1 [00:07<?, ? url/s] MiB/s]\u001B[A\n",
      "Dl Completed...:   0%|          | 0/1 [00:07<?, ? url/s] MiB/s]\u001B[A\n",
      "Dl Completed...:   0%|          | 0/1 [00:07<?, ? url/s] MiB/s]\u001B[A\n",
      "Dl Completed...:   0%|          | 0/1 [00:07<?, ? url/s] MiB/s]\u001B[A\n",
      "Dl Completed...:   0%|          | 0/1 [00:07<?, ? url/s] MiB/s]\u001B[A\n",
      "Dl Completed...:   0%|          | 0/1 [00:07<?, ? url/s] MiB/s]\u001B[A\n",
      "Dl Completed...:   0%|          | 0/1 [00:07<?, ? url/s] MiB/s]\u001B[A\n",
      "Dl Completed...:   0%|          | 0/1 [00:07<?, ? url/s] MiB/s]\u001B[A\n",
      "Dl Size...:  82%|████████▏ | 642/786 [00:07<00:01, 98.41 MiB/s]\u001B[A\n",
      "Dl Completed...:   0%|          | 0/1 [00:07<?, ? url/s] MiB/s]\u001B[A\n",
      "Dl Completed...:   0%|          | 0/1 [00:07<?, ? url/s] MiB/s]\u001B[A\n",
      "Dl Completed...:   0%|          | 0/1 [00:07<?, ? url/s] MiB/s]\u001B[A\n",
      "Dl Completed...:   0%|          | 0/1 [00:07<?, ? url/s] MiB/s]\u001B[A\n",
      "Dl Completed...:   0%|          | 0/1 [00:07<?, ? url/s] MiB/s]\u001B[A\n",
      "Dl Completed...:   0%|          | 0/1 [00:07<?, ? url/s] MiB/s]\u001B[A\n",
      "Dl Completed...:   0%|          | 0/1 [00:07<?, ? url/s] MiB/s]\u001B[A\n",
      "Dl Completed...:   0%|          | 0/1 [00:07<?, ? url/s] MiB/s]\u001B[A\n",
      "Dl Completed...:   0%|          | 0/1 [00:07<?, ? url/s] MiB/s]\u001B[A\n",
      "Dl Completed...:   0%|          | 0/1 [00:07<?, ? url/s] MiB/s]\u001B[A\n",
      "Dl Completed...:   0%|          | 0/1 [00:07<?, ? url/s] MiB/s]\u001B[A\n",
      "Dl Completed...:   0%|          | 0/1 [00:07<?, ? url/s] MiB/s]\u001B[A\n",
      "Dl Size...:  83%|████████▎ | 654/786 [00:07<00:01, 98.48 MiB/s]\u001B[A\n",
      "Dl Completed...:   0%|          | 0/1 [00:07<?, ? url/s]5 MiB/s]\u001B[A\n",
      "Dl Completed...:   0%|          | 0/1 [00:07<?, ? url/s]5 MiB/s]\u001B[A\n",
      "Dl Completed...:   0%|          | 0/1 [00:07<?, ? url/s]5 MiB/s]\u001B[A\n",
      "Dl Completed...:   0%|          | 0/1 [00:07<?, ? url/s]5 MiB/s]\u001B[A\n",
      "Dl Completed...:   0%|          | 0/1 [00:07<?, ? url/s]5 MiB/s]\u001B[A\n",
      "Dl Completed...:   0%|          | 0/1 [00:07<?, ? url/s]5 MiB/s]\u001B[A\n",
      "Dl Completed...:   0%|          | 0/1 [00:07<?, ? url/s]5 MiB/s]\u001B[A\n",
      "Dl Completed...:   0%|          | 0/1 [00:07<?, ? url/s]5 MiB/s]\u001B[A\n",
      "Dl Completed...:   0%|          | 0/1 [00:07<?, ? url/s]5 MiB/s]\u001B[A\n",
      "Dl Completed...:   0%|          | 0/1 [00:07<?, ? url/s]5 MiB/s]\u001B[A\n",
      "Dl Completed...:   0%|          | 0/1 [00:07<?, ? url/s]5 MiB/s]\u001B[A\n",
      "Dl Completed...:   0%|          | 0/1 [00:07<?, ? url/s]5 MiB/s]\u001B[A\n",
      "Dl Size...:  85%|████████▍ | 666/786 [00:07<00:01, 102.25 MiB/s]\u001B[A\n",
      "Dl Completed...:   0%|          | 0/1 [00:07<?, ? url/s]7 MiB/s]\u001B[A\n",
      "Dl Completed...:   0%|          | 0/1 [00:07<?, ? url/s]7 MiB/s]\u001B[A\n",
      "Dl Completed...:   0%|          | 0/1 [00:07<?, ? url/s]7 MiB/s]\u001B[A\n",
      "Dl Completed...:   0%|          | 0/1 [00:07<?, ? url/s]7 MiB/s]\u001B[A\n",
      "Dl Completed...:   0%|          | 0/1 [00:07<?, ? url/s]7 MiB/s]\u001B[A\n",
      "Dl Completed...:   0%|          | 0/1 [00:07<?, ? url/s]7 MiB/s]\u001B[A\n",
      "Dl Completed...:   0%|          | 0/1 [00:07<?, ? url/s]7 MiB/s]\u001B[A\n",
      "Dl Completed...:   0%|          | 0/1 [00:07<?, ? url/s]7 MiB/s]\u001B[A\n",
      "Dl Completed...:   0%|          | 0/1 [00:07<?, ? url/s]7 MiB/s]\u001B[A\n",
      "Dl Completed...:   0%|          | 0/1 [00:07<?, ? url/s]7 MiB/s]\u001B[A\n",
      "Dl Completed...:   0%|          | 0/1 [00:07<?, ? url/s]7 MiB/s]\u001B[A\n",
      "Dl Size...:  86%|████████▌ | 677/786 [00:07<00:01, 104.97 MiB/s]\u001B[A\n",
      "Dl Completed...:   0%|          | 0/1 [00:07<?, ? url/s]0 MiB/s]\u001B[A\n",
      "Dl Completed...:   0%|          | 0/1 [00:07<?, ? url/s]0 MiB/s]\u001B[A\n",
      "Dl Completed...:   0%|          | 0/1 [00:07<?, ? url/s]0 MiB/s]\u001B[A\n",
      "Dl Completed...:   0%|          | 0/1 [00:07<?, ? url/s]0 MiB/s]\u001B[A\n",
      "Dl Completed...:   0%|          | 0/1 [00:07<?, ? url/s]0 MiB/s]\u001B[A\n",
      "Dl Completed...:   0%|          | 0/1 [00:07<?, ? url/s]0 MiB/s]\u001B[A\n",
      "Dl Completed...:   0%|          | 0/1 [00:07<?, ? url/s]0 MiB/s]\u001B[A\n",
      "Dl Completed...:   0%|          | 0/1 [00:07<?, ? url/s]0 MiB/s]\u001B[A\n",
      "Dl Completed...:   0%|          | 0/1 [00:07<?, ? url/s]0 MiB/s]\u001B[A\n",
      "Dl Completed...:   0%|          | 0/1 [00:07<?, ? url/s]0 MiB/s]\u001B[A\n",
      "Dl Completed...:   0%|          | 0/1 [00:07<?, ? url/s]0 MiB/s]\u001B[A\n",
      "Dl Completed...:   0%|          | 0/1 [00:07<?, ? url/s]0 MiB/s]\u001B[A\n",
      "Dl Size...:  88%|████████▊ | 689/786 [00:07<00:00, 106.10 MiB/s]\u001B[A\n",
      "Dl Completed...:   0%|          | 0/1 [00:07<?, ? url/s]0 MiB/s]\u001B[A\n",
      "Dl Completed...:   0%|          | 0/1 [00:07<?, ? url/s]0 MiB/s]\u001B[A\n",
      "Dl Completed...:   0%|          | 0/1 [00:07<?, ? url/s]0 MiB/s]\u001B[A\n",
      "Dl Completed...:   0%|          | 0/1 [00:07<?, ? url/s]0 MiB/s]\u001B[A\n",
      "Dl Completed...:   0%|          | 0/1 [00:07<?, ? url/s]0 MiB/s]\u001B[A\n",
      "Dl Completed...:   0%|          | 0/1 [00:07<?, ? url/s]0 MiB/s]\u001B[A\n",
      "Dl Completed...:   0%|          | 0/1 [00:07<?, ? url/s]0 MiB/s]\u001B[A\n",
      "Dl Completed...:   0%|          | 0/1 [00:07<?, ? url/s]0 MiB/s]\u001B[A\n",
      "Dl Completed...:   0%|          | 0/1 [00:07<?, ? url/s]0 MiB/s]\u001B[A\n",
      "Dl Completed...:   0%|          | 0/1 [00:07<?, ? url/s]0 MiB/s]\u001B[A\n",
      "Dl Completed...:   0%|          | 0/1 [00:07<?, ? url/s]0 MiB/s]\u001B[A\n",
      "Dl Completed...:   0%|          | 0/1 [00:07<?, ? url/s]0 MiB/s]\u001B[A\n",
      "Dl Size...:  89%|████████▉ | 701/786 [00:07<00:00, 107.70 MiB/s]\u001B[A\n",
      "Dl Completed...:   0%|          | 0/1 [00:07<?, ? url/s]5 MiB/s]\u001B[A\n",
      "Dl Completed...:   0%|          | 0/1 [00:07<?, ? url/s]5 MiB/s]\u001B[A\n",
      "Dl Completed...:   0%|          | 0/1 [00:07<?, ? url/s]5 MiB/s]\u001B[A\n",
      "Dl Completed...:   0%|          | 0/1 [00:07<?, ? url/s]5 MiB/s]\u001B[A\n",
      "Dl Completed...:   0%|          | 0/1 [00:07<?, ? url/s]5 MiB/s]\u001B[A\n",
      "Dl Completed...:   0%|          | 0/1 [00:07<?, ? url/s]5 MiB/s]\u001B[A\n",
      "Dl Completed...:   0%|          | 0/1 [00:07<?, ? url/s]5 MiB/s]\u001B[A\n",
      "Dl Completed...:   0%|          | 0/1 [00:07<?, ? url/s]5 MiB/s]\u001B[A\n",
      "Dl Completed...:   0%|          | 0/1 [00:07<?, ? url/s]5 MiB/s]\u001B[A\n",
      "Dl Completed...:   0%|          | 0/1 [00:07<?, ? url/s]5 MiB/s]\u001B[A\n",
      "Dl Completed...:   0%|          | 0/1 [00:07<?, ? url/s]5 MiB/s]\u001B[A\n",
      "Dl Size...:  91%|█████████ | 712/786 [00:07<00:00, 102.85 MiB/s]\u001B[A\n",
      "Dl Completed...:   0%|          | 0/1 [00:07<?, ? url/s]4 MiB/s]\u001B[A\n",
      "Dl Completed...:   0%|          | 0/1 [00:07<?, ? url/s]4 MiB/s]\u001B[A\n",
      "Dl Completed...:   0%|          | 0/1 [00:07<?, ? url/s]4 MiB/s]\u001B[A\n",
      "Dl Completed...:   0%|          | 0/1 [00:08<?, ? url/s]4 MiB/s]\u001B[A\n",
      "Dl Completed...:   0%|          | 0/1 [00:08<?, ? url/s]4 MiB/s]\u001B[A\n",
      "Dl Completed...:   0%|          | 0/1 [00:08<?, ? url/s]4 MiB/s]\u001B[A\n",
      "Dl Completed...:   0%|          | 0/1 [00:08<?, ? url/s]4 MiB/s]\u001B[A\n",
      "Dl Completed...:   0%|          | 0/1 [00:08<?, ? url/s]4 MiB/s]\u001B[A\n",
      "Dl Completed...:   0%|          | 0/1 [00:08<?, ? url/s]4 MiB/s]\u001B[A\n",
      "Dl Completed...:   0%|          | 0/1 [00:08<?, ? url/s]4 MiB/s]\u001B[A\n",
      "Dl Completed...:   0%|          | 0/1 [00:08<?, ? url/s]4 MiB/s]\u001B[A\n",
      "Dl Size...:  92%|█████████▏| 723/786 [00:08<00:00, 101.54 MiB/s]\u001B[A\n",
      "Dl Completed...:   0%|          | 0/1 [00:08<?, ? url/s] MiB/s] \u001B[A\n",
      "Dl Completed...:   0%|          | 0/1 [00:08<?, ? url/s] MiB/s]\u001B[A\n",
      "Dl Completed...:   0%|          | 0/1 [00:08<?, ? url/s] MiB/s]\u001B[A\n",
      "Dl Completed...:   0%|          | 0/1 [00:08<?, ? url/s] MiB/s]\u001B[A\n",
      "Dl Completed...:   0%|          | 0/1 [00:08<?, ? url/s] MiB/s]\u001B[A\n",
      "Dl Completed...:   0%|          | 0/1 [00:08<?, ? url/s] MiB/s]\u001B[A\n",
      "Dl Completed...:   0%|          | 0/1 [00:08<?, ? url/s] MiB/s]\u001B[A\n",
      "Dl Completed...:   0%|          | 0/1 [00:08<?, ? url/s] MiB/s]\u001B[A\n",
      "Dl Completed...:   0%|          | 0/1 [00:08<?, ? url/s] MiB/s]\u001B[A\n",
      "Dl Completed...:   0%|          | 0/1 [00:08<?, ? url/s] MiB/s]\u001B[A\n",
      "Dl Completed...:   0%|          | 0/1 [00:08<?, ? url/s] MiB/s]\u001B[A\n",
      "Dl Size...:  93%|█████████▎| 734/786 [00:08<00:00, 67.54 MiB/s]\u001B[A\n",
      "Dl Completed...:   0%|          | 0/1 [00:08<?, ? url/s] MiB/s]\u001B[A\n",
      "Dl Completed...:   0%|          | 0/1 [00:08<?, ? url/s] MiB/s]\u001B[A\n",
      "Dl Completed...:   0%|          | 0/1 [00:08<?, ? url/s] MiB/s]\u001B[A\n",
      "Dl Completed...:   0%|          | 0/1 [00:08<?, ? url/s] MiB/s]\u001B[A\n",
      "Dl Completed...:   0%|          | 0/1 [00:08<?, ? url/s] MiB/s]\u001B[A\n",
      "Dl Completed...:   0%|          | 0/1 [00:08<?, ? url/s] MiB/s]\u001B[A\n",
      "Dl Completed...:   0%|          | 0/1 [00:08<?, ? url/s] MiB/s]\u001B[A\n",
      "Dl Completed...:   0%|          | 0/1 [00:08<?, ? url/s] MiB/s]\u001B[A\n",
      "Dl Completed...:   0%|          | 0/1 [00:08<?, ? url/s] MiB/s]\u001B[A\n",
      "Dl Completed...:   0%|          | 0/1 [00:08<?, ? url/s] MiB/s]\u001B[A\n",
      "Dl Completed...:   0%|          | 0/1 [00:08<?, ? url/s] MiB/s]\u001B[A\n",
      "Dl Size...:  95%|█████████▍| 745/786 [00:08<00:00, 75.28 MiB/s]\u001B[A\n",
      "Dl Completed...:   0%|          | 0/1 [00:08<?, ? url/s] MiB/s]\u001B[A\n",
      "Dl Completed...:   0%|          | 0/1 [00:08<?, ? url/s] MiB/s]\u001B[A\n",
      "Dl Completed...:   0%|          | 0/1 [00:08<?, ? url/s] MiB/s]\u001B[A\n",
      "Dl Completed...:   0%|          | 0/1 [00:08<?, ? url/s] MiB/s]\u001B[A\n",
      "Dl Completed...:   0%|          | 0/1 [00:08<?, ? url/s] MiB/s]\u001B[A\n",
      "Dl Completed...:   0%|          | 0/1 [00:08<?, ? url/s] MiB/s]\u001B[A\n",
      "Dl Completed...:   0%|          | 0/1 [00:08<?, ? url/s] MiB/s]\u001B[A\n",
      "Dl Completed...:   0%|          | 0/1 [00:08<?, ? url/s] MiB/s]\u001B[A\n",
      "Dl Completed...:   0%|          | 0/1 [00:08<?, ? url/s] MiB/s]\u001B[A\n",
      "Dl Completed...:   0%|          | 0/1 [00:08<?, ? url/s] MiB/s]\u001B[A\n",
      "Dl Completed...:   0%|          | 0/1 [00:08<?, ? url/s] MiB/s]\u001B[A\n",
      "Dl Completed...:   0%|          | 0/1 [00:08<?, ? url/s] MiB/s]\u001B[A\n",
      "Dl Size...:  96%|█████████▋| 757/786 [00:08<00:00, 79.89 MiB/s]\u001B[A\n",
      "Dl Completed...:   0%|          | 0/1 [00:08<?, ? url/s] MiB/s]\u001B[A\n",
      "Dl Completed...:   0%|          | 0/1 [00:08<?, ? url/s] MiB/s]\u001B[A\n",
      "Dl Completed...:   0%|          | 0/1 [00:08<?, ? url/s] MiB/s]\u001B[A\n",
      "Dl Completed...:   0%|          | 0/1 [00:08<?, ? url/s] MiB/s]\u001B[A\n",
      "Dl Completed...:   0%|          | 0/1 [00:08<?, ? url/s] MiB/s]\u001B[A\n",
      "Dl Completed...:   0%|          | 0/1 [00:08<?, ? url/s] MiB/s]\u001B[A\n",
      "Dl Completed...:   0%|          | 0/1 [00:08<?, ? url/s] MiB/s]\u001B[A\n",
      "Dl Completed...:   0%|          | 0/1 [00:08<?, ? url/s] MiB/s]\u001B[A\n",
      "Dl Completed...:   0%|          | 0/1 [00:08<?, ? url/s] MiB/s]\u001B[A\n",
      "Dl Completed...:   0%|          | 0/1 [00:08<?, ? url/s] MiB/s]\u001B[A\n",
      "Dl Completed...:   0%|          | 0/1 [00:08<?, ? url/s] MiB/s]\u001B[A\n",
      "Dl Completed...:   0%|          | 0/1 [00:08<?, ? url/s] MiB/s]\u001B[A\n",
      "Dl Size...:  98%|█████████▊| 769/786 [00:08<00:00, 89.01 MiB/s]\u001B[A\n",
      "Dl Completed...:   0%|          | 0/1 [00:08<?, ? url/s] MiB/s]\u001B[A\n",
      "Dl Completed...:   0%|          | 0/1 [00:08<?, ? url/s] MiB/s]\u001B[A\n",
      "Dl Completed...:   0%|          | 0/1 [00:08<?, ? url/s] MiB/s]\u001B[A\n",
      "Dl Completed...:   0%|          | 0/1 [00:08<?, ? url/s] MiB/s]\u001B[A\n",
      "Dl Completed...:   0%|          | 0/1 [00:08<?, ? url/s] MiB/s]\u001B[A\n",
      "Dl Completed...:   0%|          | 0/1 [00:08<?, ? url/s] MiB/s]\u001B[A\n",
      "Dl Completed...:   0%|          | 0/1 [00:08<?, ? url/s] MiB/s]\u001B[A\n",
      "Dl Completed...:   0%|          | 0/1 [00:08<?, ? url/s] MiB/s]\u001B[A\n",
      "Dl Completed...:   0%|          | 0/1 [00:08<?, ? url/s] MiB/s]\u001B[A\n",
      "Dl Completed...:   0%|          | 0/1 [00:08<?, ? url/s] MiB/s]\u001B[A\n",
      "Dl Completed...:   0%|          | 0/1 [00:08<?, ? url/s] MiB/s]\u001B[A\n",
      "Dl Completed...:   0%|          | 0/1 [00:08<?, ? url/s] MiB/s]\u001B[A\n",
      "Dl Size...:  99%|█████████▉| 781/786 [00:08<00:00, 94.69 MiB/s]\u001B[A\n",
      "Dl Completed...:   0%|          | 0/1 [00:08<?, ? url/s] MiB/s]\u001B[A\n",
      "Dl Completed...:   0%|          | 0/1 [00:08<?, ? url/s] MiB/s]\u001B[A\n",
      "Dl Completed...:   0%|          | 0/1 [00:08<?, ? url/s] MiB/s]\u001B[A\n",
      "Dl Completed...:   0%|          | 0/1 [00:08<?, ? url/s] MiB/s]\u001B[A\n",
      "Dl Completed...:   0%|          | 0/1 [00:08<?, ? url/s] MiB/s]\u001B[A\n",
      "Dl Completed...: 100%|██████████| 1/1 [00:08<00:00,  8.79s/ url][A\n",
      "Dl Size...: 100%|██████████| 786/786 [00:08<00:00, 89.39 MiB/s]\u001B[A\n",
      "Dl Completed...: 100%|██████████| 1/1 [00:08<00:00,  8.79s/ url]\n",
      "Generating splits...:   0%|          | 0/1 [00:00<?, ? splits/s]\n",
      "Generating train examples...:   0%|          | 0/23262 [00:00<?, ? examples/s]\u001B[A\n",
      "Generating train examples...:   2%|▏         | 437/23262 [00:00<00:05, 4365.41 examples/s]\u001B[A\n",
      "Generating train examples...:   6%|▌         | 1300/23262 [00:00<00:03, 6872.79 examples/s]\u001B[A\n",
      "Generating train examples...:   9%|▉         | 2175/23262 [00:00<00:02, 7724.99 examples/s]\u001B[A\n",
      "Generating train examples...:  13%|█▎        | 3060/23262 [00:00<00:02, 8166.19 examples/s]\u001B[A\n",
      "Generating train examples...:  17%|█▋        | 3969/23262 [00:00<00:02, 8498.78 examples/s]\u001B[A\n",
      "Generating train examples...:  21%|██        | 4833/23262 [00:00<00:02, 8546.49 examples/s]\u001B[A\n",
      "Generating train examples...:  25%|██▍       | 5713/23262 [00:00<00:02, 8602.69 examples/s]\u001B[A\n",
      "Generating train examples...:  28%|██▊       | 6592/23262 [00:00<00:01, 8660.91 examples/s]\u001B[A\n",
      "Generating train examples...:  32%|███▏      | 7483/23262 [00:00<00:01, 8736.23 examples/s]\u001B[A\n",
      "Generating train examples...:  36%|███▌      | 8371/23262 [00:01<00:01, 8778.01 examples/s]\u001B[A\n",
      "Generating train examples...:  40%|███▉      | 9249/23262 [00:01<00:01, 8725.46 examples/s]\u001B[A\n",
      "Generating train examples...:  44%|████▎     | 10138/23262 [00:01<00:01, 8772.18 examples/s]\u001B[A\n",
      "Generating train examples...:  47%|████▋     | 11016/23262 [00:01<00:01, 8678.08 examples/s]\u001B[A\n",
      "Generating train examples...:  51%|█████     | 11885/23262 [00:01<00:01, 8668.95 examples/s]\u001B[A\n",
      "Generating train examples...:  55%|█████▍    | 12753/23262 [00:01<00:01, 8613.34 examples/s]\u001B[A\n",
      "Generating train examples...:  59%|█████▊    | 13615/23262 [00:01<00:01, 8169.01 examples/s]\u001B[A\n",
      "Generating train examples...:  62%|██████▏   | 14437/23262 [00:01<00:01, 7900.51 examples/s]\u001B[A\n",
      "Generating train examples...:  65%|██████▌   | 15232/23262 [00:01<00:01, 7762.73 examples/s]\u001B[A\n",
      "Generating train examples...:  69%|██████▉   | 16068/23262 [00:01<00:00, 7931.36 examples/s]\u001B[A\n",
      "Generating train examples...:  73%|███████▎  | 16931/23262 [00:02<00:00, 8130.94 examples/s]\u001B[A\n",
      "Generating train examples...:  76%|███████▋  | 17784/23262 [00:02<00:00, 8245.72 examples/s]\u001B[A\n",
      "Generating train examples...:  80%|████████  | 18637/23262 [00:02<00:00, 8328.61 examples/s]\u001B[A\n",
      "Generating train examples...:  84%|████████▍ | 19495/23262 [00:02<00:00, 8399.71 examples/s]\u001B[A\n",
      "Generating train examples...:  87%|████████▋ | 20346/23262 [00:02<00:00, 8431.60 examples/s]\u001B[A\n",
      "Generating train examples...:  91%|█████████ | 21214/23262 [00:02<00:00, 8503.51 examples/s]\u001B[A\n",
      "Generating train examples...:  95%|█████████▍| 22087/23262 [00:02<00:00, 8569.38 examples/s]\u001B[A\n",
      "Generating train examples...:  99%|█████████▊| 22957/23262 [00:02<00:00, 8607.68 examples/s]\u001B[AWARNING:absl:1738 images were corrupted and were skipped\n",
      "\n",
      "                                                                                            \u001B[A\n",
      "Shuffling /Users/milannovak/tensorflow_datasets/cats_vs_dogs/4.0.0.incompleteINK174/cats_vs_dogs-train.tfrecord*...:   0%|          | 0/23262 [00:00<?, ? examples/s]\u001B[A\n",
      "Shuffling /Users/milannovak/tensorflow_datasets/cats_vs_dogs/4.0.0.incompleteINK174/cats_vs_dogs-train.tfrecord*...:  13%|█▎        | 2953/23262 [00:00<00:00, 29527.00 examples/s]\u001B[A\n",
      "Shuffling /Users/milannovak/tensorflow_datasets/cats_vs_dogs/4.0.0.incompleteINK174/cats_vs_dogs-train.tfrecord*...:  25%|██▌       | 5906/23262 [00:00<00:00, 29368.81 examples/s]\u001B[A\n",
      "Shuffling /Users/milannovak/tensorflow_datasets/cats_vs_dogs/4.0.0.incompleteINK174/cats_vs_dogs-train.tfrecord*...:  39%|███▊      | 8978/23262 [00:00<00:00, 29982.05 examples/s]\u001B[A\n",
      "Shuffling /Users/milannovak/tensorflow_datasets/cats_vs_dogs/4.0.0.incompleteINK174/cats_vs_dogs-train.tfrecord*...:  51%|█████▏    | 11977/23262 [00:00<00:00, 28103.80 examples/s]\u001B[A\n",
      "Shuffling /Users/milannovak/tensorflow_datasets/cats_vs_dogs/4.0.0.incompleteINK174/cats_vs_dogs-train.tfrecord*...:  64%|██████▎   | 14815/23262 [00:00<00:00, 28197.16 examples/s]\u001B[A\n",
      "Shuffling /Users/milannovak/tensorflow_datasets/cats_vs_dogs/4.0.0.incompleteINK174/cats_vs_dogs-train.tfrecord*...:  76%|███████▌  | 17688/23262 [00:00<00:00, 28370.59 examples/s]\u001B[A\n",
      "Shuffling /Users/milannovak/tensorflow_datasets/cats_vs_dogs/4.0.0.incompleteINK174/cats_vs_dogs-train.tfrecord*...:  88%|████████▊ | 20533/23262 [00:00<00:00, 28027.26 examples/s]\u001B[A\n",
      "                                                                                                                                                                                    \u001B[A\r"
     ]
    },
    {
     "name": "stdout",
     "output_type": "stream",
     "text": [
      "\u001B[1mDataset cats_vs_dogs downloaded and prepared to /Users/milannovak/tensorflow_datasets/cats_vs_dogs/4.0.0. Subsequent calls will reuse this data.\u001B[0m\n",
      "Epoch 1/3\n"
     ]
    },
    {
     "name": "stderr",
     "output_type": "stream",
     "text": [
      "2025-04-02 11:41:13.870964: W tensorflow/core/platform/profile_utils/cpu_utils.cc:128] Failed to get CPU frequency: 0 Hz\n"
     ]
    },
    {
     "name": "stdout",
     "output_type": "stream",
     "text": [
      "197/582 [=========>....................] - ETA: 14s - loss: 0.1952 - accuracy: 0.9204"
     ]
    },
    {
     "name": "stderr",
     "output_type": "stream",
     "text": [
      "Corrupt JPEG data: 99 extraneous bytes before marker 0xd9\n"
     ]
    },
    {
     "name": "stdout",
     "output_type": "stream",
     "text": [
      "227/582 [==========>...................] - ETA: 13s - loss: 0.1888 - accuracy: 0.9230"
     ]
    },
    {
     "name": "stderr",
     "output_type": "stream",
     "text": [
      "Warning: unknown JFIF revision number 0.00\n"
     ]
    },
    {
     "name": "stdout",
     "output_type": "stream",
     "text": [
      "239/582 [===========>..................] - ETA: 13s - loss: 0.1858 - accuracy: 0.9246"
     ]
    },
    {
     "name": "stderr",
     "output_type": "stream",
     "text": [
      "Corrupt JPEG data: 396 extraneous bytes before marker 0xd9\n"
     ]
    },
    {
     "name": "stdout",
     "output_type": "stream",
     "text": [
      "313/582 [===============>..............] - ETA: 10s - loss: 0.1742 - accuracy: 0.9301"
     ]
    },
    {
     "name": "stderr",
     "output_type": "stream",
     "text": [
      "Corrupt JPEG data: 65 extraneous bytes before marker 0xd9\n"
     ]
    },
    {
     "name": "stdout",
     "output_type": "stream",
     "text": [
      "521/582 [=========================>....] - ETA: 2s - loss: 0.1559 - accuracy: 0.9360"
     ]
    },
    {
     "name": "stderr",
     "output_type": "stream",
     "text": [
      "Corrupt JPEG data: 2226 extraneous bytes before marker 0xd9\n"
     ]
    },
    {
     "name": "stdout",
     "output_type": "stream",
     "text": [
      "531/582 [==========================>...] - ETA: 1s - loss: 0.1551 - accuracy: 0.9365"
     ]
    },
    {
     "name": "stderr",
     "output_type": "stream",
     "text": [
      "Corrupt JPEG data: 128 extraneous bytes before marker 0xd9\n"
     ]
    },
    {
     "name": "stdout",
     "output_type": "stream",
     "text": [
      "543/582 [==========================>...] - ETA: 1s - loss: 0.1547 - accuracy: 0.9364"
     ]
    },
    {
     "name": "stderr",
     "output_type": "stream",
     "text": [
      "Corrupt JPEG data: 239 extraneous bytes before marker 0xd9\n"
     ]
    },
    {
     "name": "stdout",
     "output_type": "stream",
     "text": [
      "571/582 [============================>.] - ETA: 0s - loss: 0.1533 - accuracy: 0.9370"
     ]
    },
    {
     "name": "stderr",
     "output_type": "stream",
     "text": [
      "Corrupt JPEG data: 1153 extraneous bytes before marker 0xd9\n"
     ]
    },
    {
     "name": "stdout",
     "output_type": "stream",
     "text": [
      "577/582 [============================>.] - ETA: 0s - loss: 0.1534 - accuracy: 0.9370"
     ]
    },
    {
     "name": "stderr",
     "output_type": "stream",
     "text": [
      "Corrupt JPEG data: 228 extraneous bytes before marker 0xd9\n"
     ]
    },
    {
     "name": "stdout",
     "output_type": "stream",
     "text": [
      "581/582 [============================>.] - ETA: 0s - loss: 0.1529 - accuracy: 0.9372"
     ]
    },
    {
     "name": "stderr",
     "output_type": "stream",
     "text": [
      "Corrupt JPEG data: 162 extraneous bytes before marker 0xd9\n",
      "Corrupt JPEG data: 252 extraneous bytes before marker 0xd9\n",
      "Corrupt JPEG data: 214 extraneous bytes before marker 0xd9\n",
      "Corrupt JPEG data: 1403 extraneous bytes before marker 0xd9\n"
     ]
    },
    {
     "name": "stdout",
     "output_type": "stream",
     "text": [
      "582/582 [==============================] - 29s 50ms/step - loss: 0.1528 - accuracy: 0.9373 - val_loss: 0.1271 - val_accuracy: 0.9508\n",
      "Epoch 2/3\n",
      "196/582 [=========>....................] - ETA: 14s - loss: 0.1148 - accuracy: 0.9541"
     ]
    },
    {
     "name": "stderr",
     "output_type": "stream",
     "text": [
      "Corrupt JPEG data: 99 extraneous bytes before marker 0xd9\n"
     ]
    },
    {
     "name": "stdout",
     "output_type": "stream",
     "text": [
      "228/582 [==========>...................] - ETA: 13s - loss: 0.1151 - accuracy: 0.9544"
     ]
    },
    {
     "name": "stderr",
     "output_type": "stream",
     "text": [
      "Warning: unknown JFIF revision number 0.00\n"
     ]
    },
    {
     "name": "stdout",
     "output_type": "stream",
     "text": [
      "240/582 [===========>..................] - ETA: 12s - loss: 0.1149 - accuracy: 0.9547"
     ]
    },
    {
     "name": "stderr",
     "output_type": "stream",
     "text": [
      "Corrupt JPEG data: 396 extraneous bytes before marker 0xd9\n"
     ]
    },
    {
     "name": "stdout",
     "output_type": "stream",
     "text": [
      "313/582 [===============>..............] - ETA: 10s - loss: 0.1144 - accuracy: 0.9554"
     ]
    },
    {
     "name": "stderr",
     "output_type": "stream",
     "text": [
      "Corrupt JPEG data: 65 extraneous bytes before marker 0xd9\n"
     ]
    },
    {
     "name": "stdout",
     "output_type": "stream",
     "text": [
      "519/582 [=========================>....] - ETA: 2s - loss: 0.1130 - accuracy: 0.9547"
     ]
    },
    {
     "name": "stderr",
     "output_type": "stream",
     "text": [
      "Corrupt JPEG data: 2226 extraneous bytes before marker 0xd9\n"
     ]
    },
    {
     "name": "stdout",
     "output_type": "stream",
     "text": [
      "534/582 [==========================>...] - ETA: 1s - loss: 0.1129 - accuracy: 0.9546"
     ]
    },
    {
     "name": "stderr",
     "output_type": "stream",
     "text": [
      "Corrupt JPEG data: 128 extraneous bytes before marker 0xd9\n"
     ]
    },
    {
     "name": "stdout",
     "output_type": "stream",
     "text": [
      "544/582 [===========================>..] - ETA: 1s - loss: 0.1128 - accuracy: 0.9546"
     ]
    },
    {
     "name": "stderr",
     "output_type": "stream",
     "text": [
      "Corrupt JPEG data: 239 extraneous bytes before marker 0xd9\n"
     ]
    },
    {
     "name": "stdout",
     "output_type": "stream",
     "text": [
      "572/582 [============================>.] - ETA: 0s - loss: 0.1130 - accuracy: 0.9545"
     ]
    },
    {
     "name": "stderr",
     "output_type": "stream",
     "text": [
      "Corrupt JPEG data: 1153 extraneous bytes before marker 0xd9\n"
     ]
    },
    {
     "name": "stdout",
     "output_type": "stream",
     "text": [
      "578/582 [============================>.] - ETA: 0s - loss: 0.1130 - accuracy: 0.9545"
     ]
    },
    {
     "name": "stderr",
     "output_type": "stream",
     "text": [
      "Corrupt JPEG data: 228 extraneous bytes before marker 0xd9\n"
     ]
    },
    {
     "name": "stdout",
     "output_type": "stream",
     "text": [
      "582/582 [==============================] - ETA: 0s - loss: 0.1128 - accuracy: 0.9546"
     ]
    },
    {
     "name": "stderr",
     "output_type": "stream",
     "text": [
      "Corrupt JPEG data: 162 extraneous bytes before marker 0xd9\n",
      "Corrupt JPEG data: 252 extraneous bytes before marker 0xd9\n",
      "Corrupt JPEG data: 214 extraneous bytes before marker 0xd9\n",
      "Corrupt JPEG data: 1403 extraneous bytes before marker 0xd9\n"
     ]
    },
    {
     "name": "stdout",
     "output_type": "stream",
     "text": [
      "582/582 [==============================] - 27s 47ms/step - loss: 0.1128 - accuracy: 0.9546 - val_loss: 0.1237 - val_accuracy: 0.9514\n",
      "Epoch 3/3\n",
      "198/582 [=========>....................] - ETA: 14s - loss: 0.1027 - accuracy: 0.9599"
     ]
    },
    {
     "name": "stderr",
     "output_type": "stream",
     "text": [
      "Corrupt JPEG data: 99 extraneous bytes before marker 0xd9\n"
     ]
    },
    {
     "name": "stdout",
     "output_type": "stream",
     "text": [
      "228/582 [==========>...................] - ETA: 12s - loss: 0.1037 - accuracy: 0.9590"
     ]
    },
    {
     "name": "stderr",
     "output_type": "stream",
     "text": [
      "Warning: unknown JFIF revision number 0.00\n"
     ]
    },
    {
     "name": "stdout",
     "output_type": "stream",
     "text": [
      "240/582 [===========>..................] - ETA: 12s - loss: 0.1037 - accuracy: 0.9591"
     ]
    },
    {
     "name": "stderr",
     "output_type": "stream",
     "text": [
      "Corrupt JPEG data: 396 extraneous bytes before marker 0xd9\n"
     ]
    },
    {
     "name": "stdout",
     "output_type": "stream",
     "text": [
      "314/582 [===============>..............] - ETA: 9s - loss: 0.1038 - accuracy: 0.9599"
     ]
    },
    {
     "name": "stderr",
     "output_type": "stream",
     "text": [
      "Corrupt JPEG data: 65 extraneous bytes before marker 0xd9\n"
     ]
    },
    {
     "name": "stdout",
     "output_type": "stream",
     "text": [
      "520/582 [=========================>....] - ETA: 2s - loss: 0.1031 - accuracy: 0.9586"
     ]
    },
    {
     "name": "stderr",
     "output_type": "stream",
     "text": [
      "Corrupt JPEG data: 2226 extraneous bytes before marker 0xd9\n"
     ]
    },
    {
     "name": "stdout",
     "output_type": "stream",
     "text": [
      "534/582 [==========================>...] - ETA: 1s - loss: 0.1031 - accuracy: 0.9585"
     ]
    },
    {
     "name": "stderr",
     "output_type": "stream",
     "text": [
      "Corrupt JPEG data: 128 extraneous bytes before marker 0xd9\n"
     ]
    },
    {
     "name": "stdout",
     "output_type": "stream",
     "text": [
      "544/582 [===========================>..] - ETA: 1s - loss: 0.1030 - accuracy: 0.9584"
     ]
    },
    {
     "name": "stderr",
     "output_type": "stream",
     "text": [
      "Corrupt JPEG data: 239 extraneous bytes before marker 0xd9\n"
     ]
    },
    {
     "name": "stdout",
     "output_type": "stream",
     "text": [
      "572/582 [============================>.] - ETA: 0s - loss: 0.1034 - accuracy: 0.9583"
     ]
    },
    {
     "name": "stderr",
     "output_type": "stream",
     "text": [
      "Corrupt JPEG data: 1153 extraneous bytes before marker 0xd9\n"
     ]
    },
    {
     "name": "stdout",
     "output_type": "stream",
     "text": [
      "578/582 [============================>.] - ETA: 0s - loss: 0.1033 - accuracy: 0.9585"
     ]
    },
    {
     "name": "stderr",
     "output_type": "stream",
     "text": [
      "Corrupt JPEG data: 228 extraneous bytes before marker 0xd9\n"
     ]
    },
    {
     "name": "stdout",
     "output_type": "stream",
     "text": [
      "582/582 [==============================] - ETA: 0s - loss: 0.1031 - accuracy: 0.9586"
     ]
    },
    {
     "name": "stderr",
     "output_type": "stream",
     "text": [
      "Corrupt JPEG data: 162 extraneous bytes before marker 0xd9\n",
      "Corrupt JPEG data: 252 extraneous bytes before marker 0xd9\n",
      "Corrupt JPEG data: 214 extraneous bytes before marker 0xd9\n",
      "Corrupt JPEG data: 1403 extraneous bytes before marker 0xd9\n"
     ]
    },
    {
     "name": "stdout",
     "output_type": "stream",
     "text": [
      "582/582 [==============================] - 27s 46ms/step - loss: 0.1031 - accuracy: 0.9586 - val_loss: 0.1238 - val_accuracy: 0.9514\n"
     ]
    },
    {
     "name": "stderr",
     "output_type": "stream",
     "text": [
      "WARNING:absl:Function `_wrapped_model` contains input name(s) mobilenetv2_1.00_96_input with unsupported characters which will be renamed to mobilenetv2_1_00_96_input in the SavedModel.\n",
      "WARNING:absl:Found untraced functions such as _jit_compiled_convolution_op, _jit_compiled_convolution_op, _jit_compiled_convolution_op, _jit_compiled_convolution_op, _jit_compiled_convolution_op while saving (showing 5 of 52). These functions will not be directly callable after loading.\n"
     ]
    },
    {
     "name": "stdout",
     "output_type": "stream",
     "text": [
      "INFO:tensorflow:Assets written to: /var/folders/6f/m_ls96295sl5v0q5fc8hxjx40000gn/T/tmptk52e41c/assets\n"
     ]
    },
    {
     "name": "stderr",
     "output_type": "stream",
     "text": [
      "INFO:tensorflow:Assets written to: /var/folders/6f/m_ls96295sl5v0q5fc8hxjx40000gn/T/tmptk52e41c/assets\n",
      "2025-04-02 11:42:47.171429: W tensorflow/compiler/mlir/lite/python/tf_tfl_flatbuffer_helpers.cc:362] Ignored output_format.\n",
      "2025-04-02 11:42:47.171441: W tensorflow/compiler/mlir/lite/python/tf_tfl_flatbuffer_helpers.cc:365] Ignored drop_control_dependency.\n",
      "2025-04-02 11:42:47.171733: I tensorflow/cc/saved_model/reader.cc:45] Reading SavedModel from: /var/folders/6f/m_ls96295sl5v0q5fc8hxjx40000gn/T/tmptk52e41c\n",
      "2025-04-02 11:42:47.183768: I tensorflow/cc/saved_model/reader.cc:89] Reading meta graph with tags { serve }\n",
      "2025-04-02 11:42:47.183779: I tensorflow/cc/saved_model/reader.cc:130] Reading SavedModel debug info (if present) from: /var/folders/6f/m_ls96295sl5v0q5fc8hxjx40000gn/T/tmptk52e41c\n",
      "2025-04-02 11:42:47.222155: I tensorflow/compiler/mlir/mlir_graph_optimization_pass.cc:354] MLIR V1 optimization pass is not enabled\n",
      "2025-04-02 11:42:47.228994: I tensorflow/cc/saved_model/loader.cc:229] Restoring SavedModel bundle.\n",
      "2025-04-02 11:42:47.376551: I tensorflow/cc/saved_model/loader.cc:213] Running initialization op on SavedModel bundle at path: /var/folders/6f/m_ls96295sl5v0q5fc8hxjx40000gn/T/tmptk52e41c\n",
      "2025-04-02 11:42:47.420519: I tensorflow/cc/saved_model/loader.cc:305] SavedModel load for tags { serve }; Status: success: OK. Took 248790 microseconds.\n",
      "2025-04-02 11:42:47.572236: I tensorflow/compiler/mlir/tensorflow/utils/dump_mlir_util.cc:268] disabling MLIR crash reproducer, set env var `MLIR_CRASH_REPRODUCER_DIRECTORY` to enable.\n"
     ]
    }
   ],
   "execution_count": 2
  }
 ],
 "metadata": {
  "kernelspec": {
   "display_name": "Python 3",
   "language": "python",
   "name": "python3"
  },
  "language_info": {
   "codemirror_mode": {
    "name": "ipython",
    "version": 2
   },
   "file_extension": ".py",
   "mimetype": "text/x-python",
   "name": "python",
   "nbconvert_exporter": "python",
   "pygments_lexer": "ipython2",
   "version": "2.7.6"
  }
 },
 "nbformat": 4,
 "nbformat_minor": 5
}
