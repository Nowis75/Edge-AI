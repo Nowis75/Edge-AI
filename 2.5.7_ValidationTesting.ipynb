{
 "cells": [
  {
   "metadata": {},
   "cell_type": "markdown",
   "source": [
    "# Benchmarking TFLite modelu: velikost a čas inference\n",
    "\n",
    "Tento skript:\n",
    "\n",
    "- vytvoří jednoduchý neuronový model,\n",
    "- vytrénuje ho na syntetických datech,\n",
    "- exportuje do .tflite,\n",
    "- změří jeho velikost (v kB),\n",
    "- změří průměrný čas inference (v ms)."
   ],
   "id": "110fb23bee709565"
  },
  {
   "metadata": {
    "ExecuteTime": {
     "end_time": "2025-04-23T16:38:44.937036Z",
     "start_time": "2025-04-23T16:38:37.934139Z"
    }
   },
   "cell_type": "code",
   "source": [
    "# 🛠️ INSTALACE (pouze pokud nemáš):\n",
    "# pip install tensorflow numpy\n",
    "\n",
    "import tensorflow as tf\n",
    "import numpy as np\n",
    "import time\n",
    "import os\n",
    "\n",
    "# 1. Definice a trénink jednoduchého modelu\n",
    "model = tf.keras.Sequential([\n",
    "    tf.keras.layers.Input(shape=(10,)),\n",
    "    tf.keras.layers.Dense(32, activation='relu'),\n",
    "    tf.keras.layers.Dense(1, activation='sigmoid')\n",
    "])\n",
    "model.compile(optimizer='adam', loss='binary_crossentropy', metrics=['accuracy'])\n",
    "\n",
    "X_train = np.random.rand(1000, 10)\n",
    "y_train = np.random.randint(0, 2, size=(1000, 1))\n",
    "\n",
    "model.fit(X_train, y_train, epochs=5, batch_size=32, verbose=0)\n",
    "\n",
    "# 2. Export modelu do .tflite\n",
    "converter = tf.lite.TFLiteConverter.from_keras_model(model)\n",
    "tflite_model = converter.convert()\n",
    "with open(\"model_quant.tflite\", \"wb\") as f:\n",
    "    f.write(tflite_model)\n",
    "\n",
    "# 3. Měření velikosti modelu\n",
    "model_size_kb = os.path.getsize(\"model_quant.tflite\") / 1024\n",
    "print(f\"Velikost TFLite modelu: {model_size_kb:.2f} KB\")\n",
    "\n",
    "# 4. Načtení modelu a měření průměrného inference času\n",
    "interpreter = tf.lite.Interpreter(model_path=\"model_quant.tflite\")\n",
    "interpreter.allocate_tensors()\n",
    "\n",
    "input_details = interpreter.get_input_details()\n",
    "output_details = interpreter.get_output_details()\n",
    "input_data = np.random.rand(1, 10).astype(np.float32)\n",
    "\n",
    "start = time.time()\n",
    "for _ in range(100):\n",
    "    interpreter.set_tensor(input_details[0]['index'], input_data)\n",
    "    interpreter.invoke()\n",
    "    output = interpreter.get_tensor(output_details[0]['index'])\n",
    "end = time.time()\n",
    "\n",
    "avg_inf_time = (end - start) / 100 * 1000\n",
    "print(f\"Průměrný čas inference: {avg_inf_time:.2f} ms\")"
   ],
   "id": "5962f6bfe9aa2f52",
   "outputs": [
    {
     "name": "stderr",
     "output_type": "stream",
     "text": [
      "2025-04-23 18:38:44.517506: W tensorflow/core/platform/profile_utils/cpu_utils.cc:128] Failed to get CPU frequency: 0 Hz\n"
     ]
    },
    {
     "name": "stdout",
     "output_type": "stream",
     "text": [
      "INFO:tensorflow:Assets written to: /var/folders/6f/m_ls96295sl5v0q5fc8hxjx40000gn/T/tmpphzu8w16/assets\n",
      "Velikost TFLite modelu: 3.11 KB\n",
      "Průměrný čas inference: 0.00 ms\n"
     ]
    },
    {
     "name": "stderr",
     "output_type": "stream",
     "text": [
      "2025-04-23 18:38:44.893307: W tensorflow/compiler/mlir/lite/python/tf_tfl_flatbuffer_helpers.cc:362] Ignored output_format.\n",
      "2025-04-23 18:38:44.893317: W tensorflow/compiler/mlir/lite/python/tf_tfl_flatbuffer_helpers.cc:365] Ignored drop_control_dependency.\n",
      "2025-04-23 18:38:44.893603: I tensorflow/cc/saved_model/reader.cc:45] Reading SavedModel from: /var/folders/6f/m_ls96295sl5v0q5fc8hxjx40000gn/T/tmpphzu8w16\n",
      "2025-04-23 18:38:44.894027: I tensorflow/cc/saved_model/reader.cc:89] Reading meta graph with tags { serve }\n",
      "2025-04-23 18:38:44.894031: I tensorflow/cc/saved_model/reader.cc:130] Reading SavedModel debug info (if present) from: /var/folders/6f/m_ls96295sl5v0q5fc8hxjx40000gn/T/tmpphzu8w16\n",
      "2025-04-23 18:38:44.895008: I tensorflow/compiler/mlir/mlir_graph_optimization_pass.cc:354] MLIR V1 optimization pass is not enabled\n",
      "2025-04-23 18:38:44.895254: I tensorflow/cc/saved_model/loader.cc:229] Restoring SavedModel bundle.\n",
      "2025-04-23 18:38:44.906659: I tensorflow/cc/saved_model/loader.cc:213] Running initialization op on SavedModel bundle at path: /var/folders/6f/m_ls96295sl5v0q5fc8hxjx40000gn/T/tmpphzu8w16\n",
      "2025-04-23 18:38:44.909060: I tensorflow/cc/saved_model/loader.cc:305] SavedModel load for tags { serve }; Status: success: OK. Took 15475 microseconds.\n",
      "2025-04-23 18:38:44.915537: I tensorflow/compiler/mlir/tensorflow/utils/dump_mlir_util.cc:268] disabling MLIR crash reproducer, set env var `MLIR_CRASH_REPRODUCER_DIRECTORY` to enable.\n",
      "INFO: Initialized TensorFlow Lite runtime.\n",
      "INFO: Applying 1 TensorFlow Lite delegate(s) lazily.\n"
     ]
    }
   ],
   "execution_count": 1
  }
 ],
 "metadata": {
  "kernelspec": {
   "display_name": "Python 3",
   "language": "python",
   "name": "python3"
  },
  "language_info": {
   "codemirror_mode": {
    "name": "ipython",
    "version": 2
   },
   "file_extension": ".py",
   "mimetype": "text/x-python",
   "name": "python",
   "nbconvert_exporter": "python",
   "pygments_lexer": "ipython2",
   "version": "2.7.6"
  }
 },
 "nbformat": 4,
 "nbformat_minor": 5
}
