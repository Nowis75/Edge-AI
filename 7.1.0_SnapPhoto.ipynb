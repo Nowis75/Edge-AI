{
 "cells": [
  {
   "cell_type": "code",
   "id": "initial_id",
   "metadata": {
    "collapsed": true,
    "ExecuteTime": {
     "end_time": "2025-04-29T07:09:38.346784Z",
     "start_time": "2025-04-29T07:09:33.719618Z"
    }
   },
   "source": [
    "import serial\n",
    "import time\n",
    "import os\n",
    "from PIL import Image\n",
    "from io import BytesIO\n",
    "\n",
    "# Nastavení sériového portu pro ESP32-S3\n",
    "usbPort = '/dev/tty.usbmodem2101'  # Mac/Linux\n",
    "# usbPort = 'COM4'  # Windows\n",
    "baudRate = 115200\n",
    "\n",
    "try:\n",
    "    ser = serial.Serial(usbPort, baudRate, timeout=5)\n",
    "    print(f\"Připojeno k {usbPort}\")\n",
    "except serial.SerialException:\n",
    "    print(f\"Chyba: Nelze otevřít {usbPort}. Zkontroluj připojení ESP32-S3!\")\n",
    "    exit()\n",
    "\n",
    "# Složka pro ukládání fotek\n",
    "save_dir = \"photo\"\n",
    "if not os.path.exists(save_dir):\n",
    "    os.makedirs(save_dir)\n",
    "\n",
    "# Najdeme nejvyšší existující číslo\n",
    "existing_images = [f for f in os.listdir(save_dir) if f.startswith('IMG_') and f.endswith('.jpg')]\n",
    "if existing_images:\n",
    "    last_numbers = [int(f[4:8]) for f in existing_images]\n",
    "    img_counter = max(last_numbers) + 1\n",
    "else:\n",
    "    img_counter = 1\n",
    "\n",
    "print(f\"Další snímek bude uložen jako IMG_{img_counter:04d}.jpg\")\n",
    "\n",
    "# Hlavní smyčka\n",
    "while True:\n",
    "    input(\"Stiskni OK pro vyfocení dalšího snímku... (nebo Ctrl+C pro ukončení)\")\n",
    "\n",
    "    # Odeslání příkazu SNAP\n",
    "    ser.write(b'snap\\n')\n",
    "    print(\"Posílám příkaz 'snap'...\")\n",
    "\n",
    "    buffer = b\"\"\n",
    "    capturing = False\n",
    "\n",
    "    while True:\n",
    "        line = ser.readline()\n",
    "        if b\"BEGIN_IMAGE\" in line:\n",
    "            print(\"Začínám přijímat snímek...\")\n",
    "            capturing = True\n",
    "            buffer = b\"\"\n",
    "        elif b\"END_IMAGE\" in line:\n",
    "            print(\"Konec snímku, zpracovávám...\")\n",
    "\n",
    "            # Převést binární buffer na obrázek\n",
    "            image = Image.open(BytesIO(buffer))\n",
    "            width, height = image.size\n",
    "            print(f\"Rozměry původního obrázku: {width}x{height}\")\n",
    "\n",
    "            # Výpočet středu a velikosti čtverce\n",
    "            left = (width - height) // 2\n",
    "            top = 0\n",
    "            right = left + height\n",
    "            bottom = height\n",
    "\n",
    "            # Oříznutí na čtverec\n",
    "            square_image = image.crop((left, top, right, bottom))\n",
    "            print(f\"Ořezáno na čtverec: {square_image.size}\")\n",
    "\n",
    "            filename = os.path.join(save_dir, f\"IMG_{img_counter:04d}.jpg\")\n",
    "            square_image.save(filename, format='JPEG')\n",
    "            print(f\"Uloženo jako {filename}\")\n",
    "\n",
    "            img_counter += 1\n",
    "            capturing = False\n",
    "            break  # ukončí vnitřní while\n",
    "        elif capturing:\n",
    "            buffer += line\n",
    "\n",
    "ser.close()"
   ],
   "outputs": [
    {
     "name": "stdout",
     "output_type": "stream",
     "text": [
      "Připojeno k /dev/tty.usbmodem2101\n",
      "Další snímek bude uložen jako IMG_0010.jpg\n",
      "Posílám příkaz 'snap'...\n",
      "Začínám přijímat snímek...\n",
      "Konec snímku, zpracovávám...\n",
      "Rozměry původního obrázku: 640x480\n",
      "Ořezáno na čtverec: (480, 480)\n",
      "Uloženo jako photo/IMG_0010.jpg\n",
      "Posílám příkaz 'snap'...\n",
      "Začínám přijímat snímek...\n",
      "Konec snímku, zpracovávám...\n",
      "Rozměry původního obrázku: 640x480\n",
      "Ořezáno na čtverec: (480, 480)\n",
      "Uloženo jako photo/IMG_0011.jpg\n"
     ]
    },
    {
     "ename": "KeyboardInterrupt",
     "evalue": "Interrupted by user",
     "output_type": "error",
     "traceback": [
      "\u001B[0;31m---------------------------------------------------------------------------\u001B[0m",
      "\u001B[0;31mKeyboardInterrupt\u001B[0m                         Traceback (most recent call last)",
      "Cell \u001B[0;32mIn[20], line 36\u001B[0m\n\u001B[1;32m     34\u001B[0m \u001B[38;5;66;03m# Hlavní smyčka\u001B[39;00m\n\u001B[1;32m     35\u001B[0m \u001B[38;5;28;01mwhile\u001B[39;00m \u001B[38;5;28;01mTrue\u001B[39;00m:\n\u001B[0;32m---> 36\u001B[0m     \u001B[38;5;28;43minput\u001B[39;49m\u001B[43m(\u001B[49m\u001B[38;5;124;43m\"\u001B[39;49m\u001B[38;5;124;43mStiskni OK pro vyfocení dalšího snímku... (nebo Ctrl+C pro ukončení)\u001B[39;49m\u001B[38;5;124;43m\"\u001B[39;49m\u001B[43m)\u001B[49m\n\u001B[1;32m     38\u001B[0m     \u001B[38;5;66;03m# Odeslání příkazu SNAP\u001B[39;00m\n\u001B[1;32m     39\u001B[0m     ser\u001B[38;5;241m.\u001B[39mwrite(\u001B[38;5;124mb\u001B[39m\u001B[38;5;124m'\u001B[39m\u001B[38;5;124msnap\u001B[39m\u001B[38;5;130;01m\\n\u001B[39;00m\u001B[38;5;124m'\u001B[39m)\n",
      "File \u001B[0;32m/opt/anaconda3/envs/CondaAiProjectTF210/lib/python3.8/site-packages/ipykernel/kernelbase.py:1282\u001B[0m, in \u001B[0;36mKernel.raw_input\u001B[0;34m(self, prompt)\u001B[0m\n\u001B[1;32m   1280\u001B[0m     msg \u001B[38;5;241m=\u001B[39m \u001B[38;5;124m\"\u001B[39m\u001B[38;5;124mraw_input was called, but this frontend does not support input requests.\u001B[39m\u001B[38;5;124m\"\u001B[39m\n\u001B[1;32m   1281\u001B[0m     \u001B[38;5;28;01mraise\u001B[39;00m StdinNotImplementedError(msg)\n\u001B[0;32m-> 1282\u001B[0m \u001B[38;5;28;01mreturn\u001B[39;00m \u001B[38;5;28;43mself\u001B[39;49m\u001B[38;5;241;43m.\u001B[39;49m\u001B[43m_input_request\u001B[49m\u001B[43m(\u001B[49m\n\u001B[1;32m   1283\u001B[0m \u001B[43m    \u001B[49m\u001B[38;5;28;43mstr\u001B[39;49m\u001B[43m(\u001B[49m\u001B[43mprompt\u001B[49m\u001B[43m)\u001B[49m\u001B[43m,\u001B[49m\n\u001B[1;32m   1284\u001B[0m \u001B[43m    \u001B[49m\u001B[38;5;28;43mself\u001B[39;49m\u001B[38;5;241;43m.\u001B[39;49m\u001B[43m_parent_ident\u001B[49m\u001B[43m[\u001B[49m\u001B[38;5;124;43m\"\u001B[39;49m\u001B[38;5;124;43mshell\u001B[39;49m\u001B[38;5;124;43m\"\u001B[39;49m\u001B[43m]\u001B[49m\u001B[43m,\u001B[49m\n\u001B[1;32m   1285\u001B[0m \u001B[43m    \u001B[49m\u001B[38;5;28;43mself\u001B[39;49m\u001B[38;5;241;43m.\u001B[39;49m\u001B[43mget_parent\u001B[49m\u001B[43m(\u001B[49m\u001B[38;5;124;43m\"\u001B[39;49m\u001B[38;5;124;43mshell\u001B[39;49m\u001B[38;5;124;43m\"\u001B[39;49m\u001B[43m)\u001B[49m\u001B[43m,\u001B[49m\n\u001B[1;32m   1286\u001B[0m \u001B[43m    \u001B[49m\u001B[43mpassword\u001B[49m\u001B[38;5;241;43m=\u001B[39;49m\u001B[38;5;28;43;01mFalse\u001B[39;49;00m\u001B[43m,\u001B[49m\n\u001B[1;32m   1287\u001B[0m \u001B[43m\u001B[49m\u001B[43m)\u001B[49m\n",
      "File \u001B[0;32m/opt/anaconda3/envs/CondaAiProjectTF210/lib/python3.8/site-packages/ipykernel/kernelbase.py:1325\u001B[0m, in \u001B[0;36mKernel._input_request\u001B[0;34m(self, prompt, ident, parent, password)\u001B[0m\n\u001B[1;32m   1322\u001B[0m \u001B[38;5;28;01mexcept\u001B[39;00m \u001B[38;5;167;01mKeyboardInterrupt\u001B[39;00m:\n\u001B[1;32m   1323\u001B[0m     \u001B[38;5;66;03m# re-raise KeyboardInterrupt, to truncate traceback\u001B[39;00m\n\u001B[1;32m   1324\u001B[0m     msg \u001B[38;5;241m=\u001B[39m \u001B[38;5;124m\"\u001B[39m\u001B[38;5;124mInterrupted by user\u001B[39m\u001B[38;5;124m\"\u001B[39m\n\u001B[0;32m-> 1325\u001B[0m     \u001B[38;5;28;01mraise\u001B[39;00m \u001B[38;5;167;01mKeyboardInterrupt\u001B[39;00m(msg) \u001B[38;5;28;01mfrom\u001B[39;00m \u001B[38;5;28;01mNone\u001B[39;00m\n\u001B[1;32m   1326\u001B[0m \u001B[38;5;28;01mexcept\u001B[39;00m \u001B[38;5;167;01mException\u001B[39;00m:\n\u001B[1;32m   1327\u001B[0m     \u001B[38;5;28mself\u001B[39m\u001B[38;5;241m.\u001B[39mlog\u001B[38;5;241m.\u001B[39mwarning(\u001B[38;5;124m\"\u001B[39m\u001B[38;5;124mInvalid Message:\u001B[39m\u001B[38;5;124m\"\u001B[39m, exc_info\u001B[38;5;241m=\u001B[39m\u001B[38;5;28;01mTrue\u001B[39;00m)\n",
      "\u001B[0;31mKeyboardInterrupt\u001B[0m: Interrupted by user"
     ]
    }
   ],
   "execution_count": 20
  },
  {
   "metadata": {},
   "cell_type": "code",
   "outputs": [],
   "execution_count": null,
   "source": "",
   "id": "47ae4561dd5cb0a3"
  }
 ],
 "metadata": {
  "kernelspec": {
   "display_name": "Python 3",
   "language": "python",
   "name": "python3"
  },
  "language_info": {
   "codemirror_mode": {
    "name": "ipython",
    "version": 2
   },
   "file_extension": ".py",
   "mimetype": "text/x-python",
   "name": "python",
   "nbconvert_exporter": "python",
   "pygments_lexer": "ipython2",
   "version": "2.7.6"
  }
 },
 "nbformat": 4,
 "nbformat_minor": 5
}
